{
 "cells": [
  {
   "cell_type": "markdown",
   "id": "0e43e877-8025-4316-b557-fb31d616ed3c",
   "metadata": {},
   "source": [
    "---\n",
    "#image: dataloading.png\n",
    "title: Advanced Numpy\n",
    "subtitle: \n",
    "date: '2024-03-01'\n",
    "categories: [Python, bigdata, projects]\n",
    "author: Kunal Khurana\n",
    "jupyter: python3\n",
    "toc: True\n",
    "---"
   ]
  },
  {
   "cell_type": "code",
   "execution_count": 1,
   "id": "7b4ea2b5-86d0-4ce1-b95e-3ba5b9013945",
   "metadata": {},
   "outputs": [],
   "source": [
    "import numpy as np\n",
    "import pandas as pd"
   ]
  },
  {
   "cell_type": "code",
   "execution_count": 2,
   "id": "3db8580b-bbbc-4b77-9dda-770b5f528e3d",
   "metadata": {},
   "outputs": [],
   "source": [
    "rng = np.random.default_rng(seed=12345)"
   ]
  },
  {
   "cell_type": "code",
   "execution_count": 3,
   "id": "6ee87abb-e2bb-43bf-a236-c9f02a7e349d",
   "metadata": {},
   "outputs": [
    {
     "data": {
      "text/plain": [
       "(1, 3)"
      ]
     },
     "execution_count": 3,
     "metadata": {},
     "output_type": "execute_result"
    }
   ],
   "source": [
    "np.ones((1,3)).shape"
   ]
  },
  {
   "cell_type": "code",
   "execution_count": 4,
   "id": "177ecf43-a997-4d37-8922-c2f83c2c352c",
   "metadata": {},
   "outputs": [
    {
     "data": {
      "text/plain": [
       "(2120, 424, 8)"
      ]
     },
     "execution_count": 4,
     "metadata": {},
     "output_type": "execute_result"
    }
   ],
   "source": [
    "np.ones((23,5,53), dtype=np.float64).strides"
   ]
  },
  {
   "cell_type": "markdown",
   "id": "96e9955f-aa1f-4498-8b69-820b63435400",
   "metadata": {},
   "source": [
    "### Numpy Data type hierarchy"
   ]
  },
  {
   "cell_type": "code",
   "execution_count": 5,
   "id": "19268ae8-58ff-4d91-8493-817a222aaa85",
   "metadata": {},
   "outputs": [],
   "source": [
    "ints = np.ones(10, dtype=np.uint16)"
   ]
  },
  {
   "cell_type": "code",
   "execution_count": 6,
   "id": "2d537862-daf9-41d3-abd6-bcb85a14fe01",
   "metadata": {},
   "outputs": [],
   "source": [
    "floats = np.ones(10, dtype=np.float32)\n"
   ]
  },
  {
   "cell_type": "code",
   "execution_count": 7,
   "id": "7a02c82f-9ecf-479c-977a-097c4469b122",
   "metadata": {},
   "outputs": [
    {
     "data": {
      "text/plain": [
       "array([1, 1, 1, 1, 1, 1, 1, 1, 1, 1], dtype=uint16)"
      ]
     },
     "execution_count": 7,
     "metadata": {},
     "output_type": "execute_result"
    }
   ],
   "source": [
    "ints"
   ]
  },
  {
   "cell_type": "code",
   "execution_count": 8,
   "id": "e47eb7db-5e0a-4077-b6cc-79711e068cf1",
   "metadata": {},
   "outputs": [
    {
     "data": {
      "text/plain": [
       "array([1., 1., 1., 1., 1., 1., 1., 1., 1., 1.], dtype=float32)"
      ]
     },
     "execution_count": 8,
     "metadata": {},
     "output_type": "execute_result"
    }
   ],
   "source": [
    "floats"
   ]
  },
  {
   "cell_type": "code",
   "execution_count": 9,
   "id": "4d8b42b4-1e77-4330-83ca-e4ea4232202f",
   "metadata": {},
   "outputs": [
    {
     "data": {
      "text/plain": [
       "True"
      ]
     },
     "execution_count": 9,
     "metadata": {},
     "output_type": "execute_result"
    }
   ],
   "source": [
    "np.issubdtype(ints.dtype, np.integer)\n",
    "np.issubdtype(floats.dtype, np.floating)"
   ]
  },
  {
   "cell_type": "code",
   "execution_count": 10,
   "id": "df65aef2-4044-440a-a2f7-f4c5a9952900",
   "metadata": {},
   "outputs": [
    {
     "data": {
      "text/plain": [
       "[numpy.float64,\n",
       " numpy.floating,\n",
       " numpy.inexact,\n",
       " numpy.number,\n",
       " numpy.generic,\n",
       " float,\n",
       " object]"
      ]
     },
     "execution_count": 10,
     "metadata": {},
     "output_type": "execute_result"
    }
   ],
   "source": [
    "# parent classes of specific data by calling mro method:\n",
    "\n",
    "\n",
    "np.float64.mro()"
   ]
  },
  {
   "cell_type": "code",
   "execution_count": 11,
   "id": "a2c045e9-58b7-47e5-aa16-aa0bcf28da0b",
   "metadata": {},
   "outputs": [
    {
     "data": {
      "text/plain": [
       "True"
      ]
     },
     "execution_count": 11,
     "metadata": {},
     "output_type": "execute_result"
    }
   ],
   "source": [
    "np.issubdtype(ints.dtype, np.number)"
   ]
  },
  {
   "cell_type": "code",
   "execution_count": 12,
   "id": "f98ccd7c-2847-4344-a531-cd33442f8105",
   "metadata": {},
   "outputs": [
    {
     "data": {
      "text/plain": [
       "True"
      ]
     },
     "execution_count": 12,
     "metadata": {},
     "output_type": "execute_result"
    }
   ],
   "source": [
    "np.issubdtype(ints.dtype, np.number)"
   ]
  },
  {
   "cell_type": "markdown",
   "id": "d8b4fd30-0187-4b63-ac73-aad01748910b",
   "metadata": {},
   "source": [
    "### Advanced array manipulation"
   ]
  },
  {
   "cell_type": "code",
   "execution_count": 13,
   "id": "70ceaaaa-8946-40e1-af6a-0f2f0b3b81aa",
   "metadata": {},
   "outputs": [],
   "source": [
    "# reshaping\n",
    "arr = np.arange(8)"
   ]
  },
  {
   "cell_type": "code",
   "execution_count": 14,
   "id": "fb511c40-2d38-494b-8d5a-ad8ad5826f5d",
   "metadata": {},
   "outputs": [
    {
     "data": {
      "text/plain": [
       "array([0, 1, 2, 3, 4, 5, 6, 7])"
      ]
     },
     "execution_count": 14,
     "metadata": {},
     "output_type": "execute_result"
    }
   ],
   "source": [
    "arr"
   ]
  },
  {
   "cell_type": "code",
   "execution_count": 16,
   "id": "28172d9d-bb2e-4184-a3ba-01b8dda2f1dd",
   "metadata": {},
   "outputs": [
    {
     "data": {
      "text/plain": [
       "array([[0, 1],\n",
       "       [2, 3],\n",
       "       [4, 5],\n",
       "       [6, 7]])"
      ]
     },
     "execution_count": 16,
     "metadata": {},
     "output_type": "execute_result"
    }
   ],
   "source": [
    "arr.reshape((4,2))"
   ]
  },
  {
   "cell_type": "code",
   "execution_count": 17,
   "id": "c5d4d66d-8fce-4a9a-ad48-4999aa9d954a",
   "metadata": {},
   "outputs": [
    {
     "data": {
      "text/plain": [
       "array([[0, 1, 2, 3],\n",
       "       [4, 5, 6, 7]])"
      ]
     },
     "execution_count": 17,
     "metadata": {},
     "output_type": "execute_result"
    }
   ],
   "source": [
    "arr.reshape((4,2)).reshape((2, 4))"
   ]
  },
  {
   "cell_type": "code",
   "execution_count": 18,
   "id": "68872561-7de6-4a4f-a778-0d3552951b41",
   "metadata": {},
   "outputs": [],
   "source": [
    "arr = np.arange(15)\n"
   ]
  },
  {
   "cell_type": "code",
   "execution_count": 20,
   "id": "738c7944-cfd3-4880-a172-c6c3e549a970",
   "metadata": {},
   "outputs": [
    {
     "data": {
      "text/plain": [
       "array([[ 0,  1,  2],\n",
       "       [ 3,  4,  5],\n",
       "       [ 6,  7,  8],\n",
       "       [ 9, 10, 11],\n",
       "       [12, 13, 14]])"
      ]
     },
     "execution_count": 20,
     "metadata": {},
     "output_type": "execute_result"
    }
   ],
   "source": [
    "arr.reshape((5, -3))"
   ]
  },
  {
   "cell_type": "code",
   "execution_count": 21,
   "id": "762fae1c-3fad-410f-a4cf-077bf65f0ba8",
   "metadata": {},
   "outputs": [],
   "source": [
    "# since arrays's shape attribute is tuple, we may reshape it too\n",
    "other_arr = np.ones((3, 5))"
   ]
  },
  {
   "cell_type": "code",
   "execution_count": 22,
   "id": "6d8d707e-6f2e-47ae-a00c-68316128a032",
   "metadata": {},
   "outputs": [
    {
     "data": {
      "text/plain": [
       "(3, 5)"
      ]
     },
     "execution_count": 22,
     "metadata": {},
     "output_type": "execute_result"
    }
   ],
   "source": [
    "other_arr.shape"
   ]
  },
  {
   "cell_type": "code",
   "execution_count": 23,
   "id": "cf1cf3dd-9e0d-4628-a5cb-cd626c0b623e",
   "metadata": {},
   "outputs": [
    {
     "data": {
      "text/plain": [
       "array([[ 0,  1,  2,  3,  4],\n",
       "       [ 5,  6,  7,  8,  9],\n",
       "       [10, 11, 12, 13, 14]])"
      ]
     },
     "execution_count": 23,
     "metadata": {},
     "output_type": "execute_result"
    }
   ],
   "source": [
    "arr.reshape(other_arr.shape)"
   ]
  },
  {
   "cell_type": "code",
   "execution_count": 27,
   "id": "f4873977-8bc5-4afc-91ff-b79eeb63242d",
   "metadata": {},
   "outputs": [],
   "source": [
    "# flattening or raveling\n",
    "# opposite operation of reshape\n",
    "\n",
    "arr2 = np.arange(15).reshape((5,3))"
   ]
  },
  {
   "cell_type": "code",
   "execution_count": 28,
   "id": "219136b5-602f-413e-b08f-b03cafb162cd",
   "metadata": {},
   "outputs": [
    {
     "data": {
      "text/plain": [
       "array([[ 0,  1,  2],\n",
       "       [ 3,  4,  5],\n",
       "       [ 6,  7,  8],\n",
       "       [ 9, 10, 11],\n",
       "       [12, 13, 14]])"
      ]
     },
     "execution_count": 28,
     "metadata": {},
     "output_type": "execute_result"
    }
   ],
   "source": [
    "arr2"
   ]
  },
  {
   "cell_type": "code",
   "execution_count": 29,
   "id": "b143ede0-7434-43df-9c07-02f3e3579820",
   "metadata": {},
   "outputs": [
    {
     "data": {
      "text/plain": [
       "array([ 0,  1,  2,  3,  4,  5,  6,  7,  8,  9, 10, 11, 12, 13, 14])"
      ]
     },
     "execution_count": 29,
     "metadata": {},
     "output_type": "execute_result"
    }
   ],
   "source": [
    "arr2.ravel()"
   ]
  },
  {
   "cell_type": "code",
   "execution_count": 30,
   "id": "4d747e68-686a-4f7c-bb49-4bcd7b4bb984",
   "metadata": {},
   "outputs": [
    {
     "data": {
      "text/plain": [
       "array([ 0,  1,  2,  3,  4,  5,  6,  7,  8,  9, 10, 11, 12, 13, 14])"
      ]
     },
     "execution_count": 30,
     "metadata": {},
     "output_type": "execute_result"
    }
   ],
   "source": [
    "# flatten - same as ravel, but returns a copy of data\n",
    "\n",
    "arr2.flatten()\n"
   ]
  },
  {
   "cell_type": "markdown",
   "id": "f96e8b53-a9e7-4338-aade-b9cd0d4a62fc",
   "metadata": {},
   "source": [
    "### C versus Fortran order"
   ]
  },
  {
   "cell_type": "code",
   "execution_count": 31,
   "id": "23b7e35d-e03d-4e1f-8368-b0e126b11518",
   "metadata": {},
   "outputs": [],
   "source": [
    "arr = np.arange(12).reshape((3,4))"
   ]
  },
  {
   "cell_type": "code",
   "execution_count": 32,
   "id": "8c0420cd-0f29-42a9-8d95-23b368f15ce4",
   "metadata": {},
   "outputs": [
    {
     "data": {
      "text/plain": [
       "array([[ 0,  1,  2,  3],\n",
       "       [ 4,  5,  6,  7],\n",
       "       [ 8,  9, 10, 11]])"
      ]
     },
     "execution_count": 32,
     "metadata": {},
     "output_type": "execute_result"
    }
   ],
   "source": [
    "arr"
   ]
  },
  {
   "cell_type": "code",
   "execution_count": 33,
   "id": "d71f62cb-4347-410a-a469-df8a88ac1b1d",
   "metadata": {},
   "outputs": [
    {
     "data": {
      "text/plain": [
       "array([ 0,  1,  2,  3,  4,  5,  6,  7,  8,  9, 10, 11])"
      ]
     },
     "execution_count": 33,
     "metadata": {},
     "output_type": "execute_result"
    }
   ],
   "source": [
    "arr.ravel()"
   ]
  },
  {
   "cell_type": "code",
   "execution_count": 34,
   "id": "9c7b9970-762a-4827-a1cc-220e5f835f93",
   "metadata": {},
   "outputs": [
    {
     "data": {
      "text/plain": [
       "array([ 0,  4,  8,  1,  5,  9,  2,  6, 10,  3,  7, 11])"
      ]
     },
     "execution_count": 34,
     "metadata": {},
     "output_type": "execute_result"
    }
   ],
   "source": [
    "arr.ravel(\"F\")"
   ]
  },
  {
   "cell_type": "markdown",
   "id": "5b1a9f16-2df1-4a31-9136-046f392514aa",
   "metadata": {},
   "source": [
    "### Concatenating and Splitting Arrays"
   ]
  },
  {
   "cell_type": "code",
   "execution_count": 36,
   "id": "08a1eff5-5883-4b91-871e-22864391b1b4",
   "metadata": {},
   "outputs": [],
   "source": [
    "arr3 = np.array([[1,2,4],[5,6,77]])\n",
    "\n",
    "arr4 = np.array([[2,4,5],[12,44,2]])"
   ]
  },
  {
   "cell_type": "code",
   "execution_count": 38,
   "id": "b9a8128f-958f-41eb-91c9-a1bd1ff6c2c7",
   "metadata": {},
   "outputs": [
    {
     "data": {
      "text/plain": [
       "array([[ 1,  2,  4],\n",
       "       [ 5,  6, 77],\n",
       "       [ 2,  4,  5],\n",
       "       [12, 44,  2]])"
      ]
     },
     "execution_count": 38,
     "metadata": {},
     "output_type": "execute_result"
    }
   ],
   "source": [
    "np.concatenate([arr3, arr4], axis=0)"
   ]
  },
  {
   "cell_type": "code",
   "execution_count": 39,
   "id": "3ffed9d6-6a14-47b1-adc2-4417f9f682ff",
   "metadata": {},
   "outputs": [
    {
     "data": {
      "text/plain": [
       "array([[ 1,  2,  4,  2,  4,  5],\n",
       "       [ 5,  6, 77, 12, 44,  2]])"
      ]
     },
     "execution_count": 39,
     "metadata": {},
     "output_type": "execute_result"
    }
   ],
   "source": [
    "np.concatenate([arr3, arr4], axis=1)"
   ]
  },
  {
   "cell_type": "code",
   "execution_count": 40,
   "id": "91ad7e44-eead-4843-8ce9-222f00851ac9",
   "metadata": {},
   "outputs": [
    {
     "data": {
      "text/plain": [
       "array([[[ 1,  2,  4],\n",
       "        [ 5,  6, 77]],\n",
       "\n",
       "       [[ 2,  4,  5],\n",
       "        [12, 44,  2]]])"
      ]
     },
     "execution_count": 40,
     "metadata": {},
     "output_type": "execute_result"
    }
   ],
   "source": [
    "# vstack and hstack\n",
    "\n",
    "np.stack((arr3, arr4))"
   ]
  },
  {
   "cell_type": "code",
   "execution_count": 41,
   "id": "7094e374-c1c7-4bd8-b73d-7cfba62d5439",
   "metadata": {},
   "outputs": [
    {
     "data": {
      "text/plain": [
       "array([[ 1,  2,  4],\n",
       "       [ 5,  6, 77],\n",
       "       [ 2,  4,  5],\n",
       "       [12, 44,  2]])"
      ]
     },
     "execution_count": 41,
     "metadata": {},
     "output_type": "execute_result"
    }
   ],
   "source": [
    "np.vstack((arr3, arr4))"
   ]
  },
  {
   "cell_type": "code",
   "execution_count": 42,
   "id": "354a083d-c1b6-4bd6-b83b-818a59108494",
   "metadata": {},
   "outputs": [
    {
     "data": {
      "text/plain": [
       "array([[ 1,  2,  4,  2,  4,  5],\n",
       "       [ 5,  6, 77, 12, 44,  2]])"
      ]
     },
     "execution_count": 42,
     "metadata": {},
     "output_type": "execute_result"
    }
   ],
   "source": [
    "np.hstack((arr3, arr4))"
   ]
  },
  {
   "cell_type": "code",
   "execution_count": 43,
   "id": "faf48d47-c396-4452-9423-4126eb9181fe",
   "metadata": {},
   "outputs": [],
   "source": [
    "# split\n",
    "arr_split = rng.standard_normal((2,4))"
   ]
  },
  {
   "cell_type": "code",
   "execution_count": 44,
   "id": "97883446-7195-4145-b0e8-fe56cc058622",
   "metadata": {},
   "outputs": [
    {
     "data": {
      "text/plain": [
       "array([[-1.42382504,  1.26372846, -0.87066174, -0.25917323],\n",
       "       [-0.07534331, -0.74088465, -1.3677927 ,  0.6488928 ]])"
      ]
     },
     "execution_count": 44,
     "metadata": {},
     "output_type": "execute_result"
    }
   ],
   "source": [
    "arr_split"
   ]
  },
  {
   "cell_type": "code",
   "execution_count": null,
   "id": "63e8a19a-828c-4887-a885-c6f76b8d6a44",
   "metadata": {},
   "outputs": [],
   "source": []
  }
 ],
 "metadata": {
  "kernelspec": {
   "display_name": "Python 3 (ipykernel)",
   "language": "python",
   "name": "python3"
  },
  "language_info": {
   "codemirror_mode": {
    "name": "ipython",
    "version": 3
   },
   "file_extension": ".py",
   "mimetype": "text/x-python",
   "name": "python",
   "nbconvert_exporter": "python",
   "pygments_lexer": "ipython3",
   "version": "3.11.8"
  }
 },
 "nbformat": 4,
 "nbformat_minor": 5
}
