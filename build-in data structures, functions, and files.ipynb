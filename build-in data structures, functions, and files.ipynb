{
 "cells": [
  {
   "cell_type": "code",
   "execution_count": null,
   "id": "76962275",
   "metadata": {},
   "outputs": [],
   "source": [
    "---\n",
    "image: datastructures.png\n",
    "title: Data Structures\n",
    "subtitle: Python basics\n",
    "date: '2024-02-16'\n",
    "categories: [Python]\n",
    "author: Kunal Khurana\n",
    "jupyter: python3\n",
    "toc: True\n",
    "---"
   ]
  },
  {
   "cell_type": "markdown",
   "id": "ea97861a",
   "metadata": {},
   "source": [
    "# learning outcomes- data structures"
   ]
  },
  {
   "cell_type": "markdown",
   "id": "9ecff5cc",
   "metadata": {},
   "source": [
    "- 1. Tuple\n",
    "- 2. List\n",
    "- 3. Dictionary (hash maps or associated arrays)\n",
    "- 4. Set"
   ]
  },
  {
   "cell_type": "markdown",
   "id": "817ef758",
   "metadata": {},
   "source": [
    "## Tuple"
   ]
  },
  {
   "cell_type": "markdown",
   "id": "b53812c2",
   "metadata": {},
   "source": [
    "- cannot be changed\n"
   ]
  },
  {
   "cell_type": "code",
   "execution_count": 1,
   "id": "f6f119cb",
   "metadata": {},
   "outputs": [
    {
     "ename": "TypeError",
     "evalue": "'tuple' object does not support item assignment",
     "output_type": "error",
     "traceback": [
      "\u001b[1;31m---------------------------------------------------------------------------\u001b[0m",
      "\u001b[1;31mTypeError\u001b[0m                                 Traceback (most recent call last)",
      "Cell \u001b[1;32mIn[1], line 4\u001b[0m\n\u001b[0;32m      1\u001b[0m \u001b[38;5;66;03m# example\u001b[39;00m\n\u001b[0;32m      2\u001b[0m tup \u001b[38;5;241m=\u001b[39m \u001b[38;5;28mtuple\u001b[39m([\u001b[38;5;124m\"\u001b[39m\u001b[38;5;124mfoo\u001b[39m\u001b[38;5;124m\"\u001b[39m, [\u001b[38;5;241m1\u001b[39m,\u001b[38;5;241m2\u001b[39m], \u001b[38;5;28;01mTrue\u001b[39;00m])\n\u001b[1;32m----> 4\u001b[0m \u001b[43mtup\u001b[49m\u001b[43m[\u001b[49m\u001b[38;5;241;43m2\u001b[39;49m\u001b[43m]\u001b[49m \u001b[38;5;241m=\u001b[39m \u001b[38;5;28;01mFalse\u001b[39;00m\n",
      "\u001b[1;31mTypeError\u001b[0m: 'tuple' object does not support item assignment"
     ]
    }
   ],
   "source": [
    "# example\n",
    "tup = tuple([\"foo\", [1,2], True])\n",
    "\n",
    "tup[2] = False"
   ]
  },
  {
   "cell_type": "code",
   "execution_count": 3,
   "id": "36b826a2",
   "metadata": {},
   "outputs": [
    {
     "data": {
      "text/plain": [
       "('foo', [1, 2, 3, 3], True)"
      ]
     },
     "execution_count": 3,
     "metadata": {},
     "output_type": "execute_result"
    }
   ],
   "source": [
    "tup[1].append(3)\n",
    "tup"
   ]
  },
  {
   "cell_type": "markdown",
   "id": "5d61ec3b",
   "metadata": {},
   "source": [
    "### concatenation tuple with plus (+) operator"
   ]
  },
  {
   "cell_type": "code",
   "execution_count": 9,
   "id": "403a7593",
   "metadata": {},
   "outputs": [
    {
     "data": {
      "text/plain": [
       "(4, None, 'zeal', 5, 6, 32, 'bar')"
      ]
     },
     "execution_count": 9,
     "metadata": {},
     "output_type": "execute_result"
    }
   ],
   "source": [
    "tup_2 = (4, None, 'zeal') + (5, 6, 32) + ('bar',) #no comma gives a type error\n",
    "tup_2"
   ]
  },
  {
   "cell_type": "markdown",
   "id": "3a1154d9",
   "metadata": {},
   "source": [
    "### unpacking tuples"
   ]
  },
  {
   "cell_type": "code",
   "execution_count": 10,
   "id": "c9aa1cf4",
   "metadata": {},
   "outputs": [
    {
     "name": "stdout",
     "output_type": "stream",
     "text": [
      "a = 1, b = 2, c= 3\n",
      "a = 4, b = 5, c= 6\n",
      "a = 7, b = 8, c= 9\n"
     ]
    }
   ],
   "source": [
    "seq = [(1,2,3), (4, 5, 6), (7,8,9)]\n",
    "\n",
    "for a, b, c in seq:\n",
    "    print(f'a = {a}, b = {b}, c= {c}')\n",
    "    "
   ]
  },
  {
   "cell_type": "code",
   "execution_count": 14,
   "id": "affec068",
   "metadata": {},
   "outputs": [
    {
     "data": {
      "text/plain": [
       "[3, 4, 5]"
      ]
     },
     "execution_count": 14,
     "metadata": {},
     "output_type": "execute_result"
    }
   ],
   "source": [
    "# another method\n",
    "values= 1, 2, 3, 4, 5\n",
    "\n",
    "a, b, *rest = values\n",
    "\n",
    "rest  # used to discard"
   ]
  },
  {
   "cell_type": "code",
   "execution_count": 13,
   "id": "ab2a6ee6",
   "metadata": {},
   "outputs": [
    {
     "data": {
      "text/plain": [
       "2"
      ]
     },
     "execution_count": 13,
     "metadata": {},
     "output_type": "execute_result"
    }
   ],
   "source": [
    "b"
   ]
  },
  {
   "cell_type": "markdown",
   "id": "ce37b5f9",
   "metadata": {},
   "source": [
    "## List"
   ]
  },
  {
   "cell_type": "markdown",
   "id": "96dd6984",
   "metadata": {},
   "source": [
    "- same as tuples, but can be modified and lists use [ ] brackets"
   ]
  },
  {
   "cell_type": "markdown",
   "id": "8ce2b8a7",
   "metadata": {},
   "source": [
    "### using 'extend' method to append already existing lists"
   ]
  },
  {
   "cell_type": "code",
   "execution_count": 15,
   "id": "d8419b0e",
   "metadata": {},
   "outputs": [
    {
     "data": {
      "text/plain": [
       "[4, 5, 6, None, 'foo', 7, 8, (1, 2)]"
      ]
     },
     "execution_count": 15,
     "metadata": {},
     "output_type": "execute_result"
    }
   ],
   "source": [
    "x = [4, 5, 6 , None, 'foo']\n",
    "x.extend([7,8, (1, 2)])\n",
    "\n",
    "x"
   ]
  },
  {
   "cell_type": "markdown",
   "id": "e916c2ab",
   "metadata": {},
   "source": [
    "### list concatenation with extend is faster"
   ]
  },
  {
   "cell_type": "code",
   "execution_count": 19,
   "id": "ecdc5ae3",
   "metadata": {},
   "outputs": [
    {
     "name": "stdout",
     "output_type": "stream",
     "text": [
      "[4, 5, 6, None, 'foo', 7, 8, (1, 2)]\n",
      "[4, 5, 6, None, 'foo', 7, 8, (1, 2)]\n",
      "[4, 5, 6, None, 'foo', 7, 8, (1, 2)]\n",
      "[4, 5, 6, None, 'foo', 7, 8, (1, 2)]\n",
      "[4, 5, 6, None, 'foo', 7, 8, (1, 2)]\n",
      "[4, 5, 6, None, 'foo', 7, 8, (1, 2)]\n",
      "[4, 5, 6, None, 'foo', 7, 8, (1, 2)]\n",
      "[4, 5, 6, None, 'foo', 7, 8, (1, 2)]\n"
     ]
    }
   ],
   "source": [
    "everything = []\n",
    "for chunk in x:\n",
    "    everything.extend(x)\n",
    "    print(x)"
   ]
  },
  {
   "cell_type": "markdown",
   "id": "236678a7",
   "metadata": {},
   "source": [
    "### list concatenation with (+)"
   ]
  },
  {
   "cell_type": "code",
   "execution_count": 22,
   "id": "54039912",
   "metadata": {},
   "outputs": [
    {
     "name": "stdout",
     "output_type": "stream",
     "text": [
      "[4, 5, 6, None, 'foo', 7, 8, (1, 2)]\n",
      "[4, 5, 6, None, 'foo', 7, 8, (1, 2)]\n",
      "[4, 5, 6, None, 'foo', 7, 8, (1, 2)]\n",
      "[4, 5, 6, None, 'foo', 7, 8, (1, 2)]\n",
      "[4, 5, 6, None, 'foo', 7, 8, (1, 2)]\n",
      "[4, 5, 6, None, 'foo', 7, 8, (1, 2)]\n",
      "[4, 5, 6, None, 'foo', 7, 8, (1, 2)]\n",
      "[4, 5, 6, None, 'foo', 7, 8, (1, 2)]\n"
     ]
    }
   ],
   "source": [
    "everything = []\n",
    "for chunk in x:\n",
    "    everything = everything + x\n",
    "    print(x)"
   ]
  },
  {
   "cell_type": "markdown",
   "id": "3fa72eda",
   "metadata": {},
   "source": [
    "### slicing"
   ]
  },
  {
   "cell_type": "code",
   "execution_count": 24,
   "id": "2eb8840d",
   "metadata": {},
   "outputs": [
    {
     "data": {
      "text/plain": [
       "['foo', 7, 8, (1, 2)]"
      ]
     },
     "execution_count": 24,
     "metadata": {},
     "output_type": "execute_result"
    }
   ],
   "source": [
    "x[-4:]"
   ]
  },
  {
   "cell_type": "markdown",
   "id": "f7a237f4",
   "metadata": {},
   "source": [
    "### getting every element "
   ]
  },
  {
   "cell_type": "code",
   "execution_count": 26,
   "id": "75060247",
   "metadata": {},
   "outputs": [
    {
     "data": {
      "text/plain": [
       "[4, 6, 'foo', 8]"
      ]
     },
     "execution_count": 26,
     "metadata": {},
     "output_type": "execute_result"
    }
   ],
   "source": [
    "x[::2] # provived elemnents till 2nd index"
   ]
  },
  {
   "cell_type": "code",
   "execution_count": 28,
   "id": "cf7b4a89",
   "metadata": {},
   "outputs": [
    {
     "data": {
      "text/plain": [
       "[(1, 2), 8, 7, 'foo', None, 6, 5, 4]"
      ]
     },
     "execution_count": 28,
     "metadata": {},
     "output_type": "execute_result"
    }
   ],
   "source": [
    "### reversing and getting every \n",
    "x [::-1]"
   ]
  },
  {
   "cell_type": "code",
   "execution_count": 47,
   "id": "4fb9bfc5",
   "metadata": {},
   "outputs": [],
   "source": [
    "y =[1, 2, 3, 4]"
   ]
  },
  {
   "cell_type": "markdown",
   "id": "7f8b1bc2",
   "metadata": {},
   "source": [
    "## Dictionaries"
   ]
  },
  {
   "cell_type": "code",
   "execution_count": 29,
   "id": "5b25540d",
   "metadata": {},
   "outputs": [
    {
     "data": {
      "text/plain": [
       "{'a': 'some value', 'b': [1, 2, 3, 4]}"
      ]
     },
     "execution_count": 29,
     "metadata": {},
     "output_type": "execute_result"
    }
   ],
   "source": [
    "empty_dict = {}\n",
    "\n",
    "d1 = {\"a\": 'some value', 'b': [1,2,3,4]}\n",
    "\n",
    "d1"
   ]
  },
  {
   "cell_type": "markdown",
   "id": "a0d89352",
   "metadata": {},
   "source": [
    "### accessing elements from the dictionary (same as list or tuple)"
   ]
  },
  {
   "cell_type": "code",
   "execution_count": 37,
   "id": "6cba0ee6",
   "metadata": {},
   "outputs": [],
   "source": [
    "d1[3] = 'continue'"
   ]
  },
  {
   "cell_type": "code",
   "execution_count": 38,
   "id": "deae64d5",
   "metadata": {},
   "outputs": [
    {
     "data": {
      "text/plain": [
       "{'a': 'some value', 'b': [1, 2, 3, 4], 3: 'continue'}"
      ]
     },
     "execution_count": 38,
     "metadata": {},
     "output_type": "execute_result"
    }
   ],
   "source": [
    "d1"
   ]
  },
  {
   "cell_type": "code",
   "execution_count": 32,
   "id": "f80571d9",
   "metadata": {},
   "outputs": [
    {
     "data": {
      "text/plain": [
       "True"
      ]
     },
     "execution_count": 32,
     "metadata": {},
     "output_type": "execute_result"
    }
   ],
   "source": [
    "'b' in d1"
   ]
  },
  {
   "cell_type": "code",
   "execution_count": 39,
   "id": "ce68cbad",
   "metadata": {},
   "outputs": [
    {
     "data": {
      "text/plain": [
       "{'a': 'some value', 'b': [1, 2, 3, 4]}"
      ]
     },
     "execution_count": 39,
     "metadata": {},
     "output_type": "execute_result"
    }
   ],
   "source": [
    "del d1[3]\n",
    "d1"
   ]
  },
  {
   "cell_type": "markdown",
   "id": "81b13ced",
   "metadata": {},
   "source": [
    "### merge the dictionary into another using update method"
   ]
  },
  {
   "cell_type": "code",
   "execution_count": 40,
   "id": "bab995c5",
   "metadata": {},
   "outputs": [
    {
     "data": {
      "text/plain": [
       "{'a': 'some value', 'b': [1, 2, 3, 4], 'd': 'food', 'e': 'à la maison'}"
      ]
     },
     "execution_count": 40,
     "metadata": {},
     "output_type": "execute_result"
    }
   ],
   "source": [
    "d1.update({'d': 'food', 'e': 'à la maison'})\n",
    "d1"
   ]
  },
  {
   "cell_type": "markdown",
   "id": "8860fcd7",
   "metadata": {},
   "source": [
    "### creating dictionaries from sequences"
   ]
  },
  {
   "cell_type": "code",
   "execution_count": 49,
   "id": "c2e7544e",
   "metadata": {},
   "outputs": [
    {
     "name": "stdout",
     "output_type": "stream",
     "text": [
      "{4: 1, 5: 2, 6: 3, None: 4}\n"
     ]
    }
   ],
   "source": [
    "mapping =  {}\n",
    "for key, value in zip(x, y):\n",
    "    mapping[key] = value\n",
    "print(mapping)"
   ]
  },
  {
   "cell_type": "code",
   "execution_count": 50,
   "id": "78c9692e",
   "metadata": {},
   "outputs": [
    {
     "data": {
      "text/plain": [
       "<zip at 0x1e1f49ed440>"
      ]
     },
     "execution_count": 50,
     "metadata": {},
     "output_type": "execute_result"
    }
   ],
   "source": [
    "tuples = zip(range(5), reversed(range(5)))\n",
    "\n",
    "tuples"
   ]
  },
  {
   "cell_type": "code",
   "execution_count": 53,
   "id": "4793e102",
   "metadata": {},
   "outputs": [
    {
     "data": {
      "text/plain": [
       "{}"
      ]
     },
     "execution_count": 53,
     "metadata": {},
     "output_type": "execute_result"
    }
   ],
   "source": [
    "mapping = dict(tuples)\n",
    "mapping"
   ]
  },
  {
   "cell_type": "code",
   "execution_count": 54,
   "id": "0b71a5e3",
   "metadata": {},
   "outputs": [
    {
     "data": {
      "text/plain": [
       "{}"
      ]
     },
     "execution_count": 54,
     "metadata": {},
     "output_type": "execute_result"
    }
   ],
   "source": [
    "mapping"
   ]
  },
  {
   "cell_type": "code",
   "execution_count": 56,
   "id": "0d0d4eef",
   "metadata": {},
   "outputs": [
    {
     "name": "stdout",
     "output_type": "stream",
     "text": [
      "{'a': ['apple', 'atom'], 'b': ['bat', 'bar', 'book']}\n"
     ]
    }
   ],
   "source": [
    "# write a function to club the words by same first alphabet\n",
    "\n",
    "words = ['apple', 'bat', 'bar', 'atom', 'book'] # list\n",
    "\n",
    "by_letter = {} #empty dict\n",
    "\n",
    "for word in words:\n",
    "    letter = word[0] #first goes in\n",
    "    if letter not in by_letter:\n",
    "        by_letter[letter] = [word]\n",
    "    else:\n",
    "        by_letter[letter].append(word)\n",
    "        \n",
    "print(by_letter)"
   ]
  },
  {
   "cell_type": "markdown",
   "id": "f348cedb",
   "metadata": {},
   "source": [
    "### valid dictionary types"
   ]
  },
  {
   "cell_type": "code",
   "execution_count": 57,
   "id": "a8a71af0",
   "metadata": {},
   "outputs": [
    {
     "data": {
      "text/plain": [
       "5928582044493709413"
      ]
     },
     "execution_count": 57,
     "metadata": {},
     "output_type": "execute_result"
    }
   ],
   "source": [
    "hash('string')"
   ]
  },
  {
   "cell_type": "code",
   "execution_count": 58,
   "id": "4cbce3f6",
   "metadata": {},
   "outputs": [
    {
     "data": {
      "text/plain": [
       "-9209053662355515447"
      ]
     },
     "execution_count": 58,
     "metadata": {},
     "output_type": "execute_result"
    }
   ],
   "source": [
    "hash((1, 2 ,(2, 3)))"
   ]
  },
  {
   "cell_type": "code",
   "execution_count": 60,
   "id": "90ba67a3",
   "metadata": {},
   "outputs": [
    {
     "ename": "TypeError",
     "evalue": "unhashable type: 'list'",
     "output_type": "error",
     "traceback": [
      "\u001b[1;31m---------------------------------------------------------------------------\u001b[0m",
      "\u001b[1;31mTypeError\u001b[0m                                 Traceback (most recent call last)",
      "Cell \u001b[1;32mIn[60], line 1\u001b[0m\n\u001b[1;32m----> 1\u001b[0m \u001b[38;5;28;43mhash\u001b[39;49m\u001b[43m(\u001b[49m\u001b[43m(\u001b[49m\u001b[38;5;241;43m1\u001b[39;49m\u001b[43m,\u001b[49m\u001b[43m \u001b[49m\u001b[38;5;241;43m2\u001b[39;49m\u001b[43m,\u001b[49m\u001b[43m \u001b[49m\u001b[43m[\u001b[49m\u001b[38;5;241;43m2\u001b[39;49m\u001b[43m,\u001b[49m\u001b[38;5;241;43m3\u001b[39;49m\u001b[43m]\u001b[49m\u001b[43m)\u001b[49m\u001b[43m)\u001b[49m \u001b[38;5;66;03m#fails because lists are mutable\u001b[39;00m\n",
      "\u001b[1;31mTypeError\u001b[0m: unhashable type: 'list'"
     ]
    }
   ],
   "source": [
    "hash((1, 2, [2,3])) #fails because lists are mutable"
   ]
  },
  {
   "cell_type": "code",
   "execution_count": 61,
   "id": "bfbf83c0",
   "metadata": {},
   "outputs": [
    {
     "data": {
      "text/plain": [
       "{(1, 2, 3): 5}"
      ]
     },
     "execution_count": 61,
     "metadata": {},
     "output_type": "execute_result"
    }
   ],
   "source": [
    "d= {}\n",
    "\n",
    "d[tuple([1,2,3])] = 5\n",
    "\n",
    "d"
   ]
  },
  {
   "cell_type": "code",
   "execution_count": 63,
   "id": "000d40c6",
   "metadata": {},
   "outputs": [
    {
     "data": {
      "text/plain": [
       "{(1, 2, 3): 5, ('s', 't', 'r', 'e', 'n', 'g', 't', 'h'): 'persistance'}"
      ]
     },
     "execution_count": 63,
     "metadata": {},
     "output_type": "execute_result"
    }
   ],
   "source": [
    "d[tuple('strength')] = 'persistance'\n",
    "\n",
    "d"
   ]
  },
  {
   "cell_type": "markdown",
   "id": "a11ca121",
   "metadata": {},
   "source": [
    "## Set"
   ]
  },
  {
   "cell_type": "markdown",
   "id": "2deacfe5",
   "metadata": {},
   "source": [
    "- unordered collection of unique elements\n",
    "- represented by curly brackets\n",
    "- set operations [(union, intersection, difference, and symmetric difference)](https://learning.oreilly.com/library/view/python-for-data/9781098104023/ch03.html#table_set_operations)\n",
    "- immutable = hashable = like tuple"
   ]
  },
  {
   "cell_type": "code",
   "execution_count": 65,
   "id": "69adad31",
   "metadata": {},
   "outputs": [
    {
     "data": {
      "text/plain": [
       "{1, 2, 3, 4, 5, 6}"
      ]
     },
     "execution_count": 65,
     "metadata": {},
     "output_type": "execute_result"
    }
   ],
   "source": [
    "set([1, 2, 2,2,3,4,5,5,6])"
   ]
  },
  {
   "cell_type": "code",
   "execution_count": 66,
   "id": "ae3fb192",
   "metadata": {},
   "outputs": [
    {
     "data": {
      "text/plain": [
       "{1, 2, 3, 4, 5, 6}"
      ]
     },
     "execution_count": 66,
     "metadata": {},
     "output_type": "execute_result"
    }
   ],
   "source": [
    "a = {1,2,3}\n",
    "b = {4,5,6}\n",
    "\n",
    "a.union(b)"
   ]
  },
  {
   "cell_type": "code",
   "execution_count": 68,
   "id": "c9c4008e",
   "metadata": {},
   "outputs": [
    {
     "data": {
      "text/plain": [
       "{1, 2, 3, 4, 5, 6}"
      ]
     },
     "execution_count": 68,
     "metadata": {},
     "output_type": "execute_result"
    }
   ],
   "source": [
    "a | b   # means union"
   ]
  },
  {
   "cell_type": "code",
   "execution_count": 69,
   "id": "83ac4cd4",
   "metadata": {},
   "outputs": [
    {
     "data": {
      "text/plain": [
       "set()"
      ]
     },
     "execution_count": 69,
     "metadata": {},
     "output_type": "execute_result"
    }
   ],
   "source": [
    "a.intersection(b)"
   ]
  },
  {
   "cell_type": "code",
   "execution_count": 70,
   "id": "e3c264c4",
   "metadata": {},
   "outputs": [
    {
     "data": {
      "text/plain": [
       "set()"
      ]
     },
     "execution_count": 70,
     "metadata": {},
     "output_type": "execute_result"
    }
   ],
   "source": [
    "a & b # interection"
   ]
  },
  {
   "cell_type": "code",
   "execution_count": 76,
   "id": "93bf3112",
   "metadata": {},
   "outputs": [
    {
     "data": {
      "text/plain": [
       "{1, 2, 3, 4}"
      ]
     },
     "execution_count": 76,
     "metadata": {},
     "output_type": "execute_result"
    }
   ],
   "source": [
    "a.add(4)   #doesn't overwrite\n",
    "a "
   ]
  },
  {
   "cell_type": "code",
   "execution_count": 77,
   "id": "7cf0c34a",
   "metadata": {},
   "outputs": [
    {
     "data": {
      "text/plain": [
       "{4}"
      ]
     },
     "execution_count": 77,
     "metadata": {},
     "output_type": "execute_result"
    }
   ],
   "source": [
    "a & b"
   ]
  }
 ],
 "metadata": {
  "kernelspec": {
   "display_name": "Python 3 (ipykernel)",
   "language": "python",
   "name": "python3"
  },
  "language_info": {
   "codemirror_mode": {
    "name": "ipython",
    "version": 3
   },
   "file_extension": ".py",
   "mimetype": "text/x-python",
   "name": "python",
   "nbconvert_exporter": "python",
   "pygments_lexer": "ipython3",
   "version": "3.9.13"
  }
 },
 "nbformat": 4,
 "nbformat_minor": 5
}
