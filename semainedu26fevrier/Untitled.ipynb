{
 "cells": [
  {
   "cell_type": "markdown",
   "id": "bdc973a4",
   "metadata": {},
   "source": [
    "---\n",
    "#image: dataloading.png\n",
    "title: Data plotting\n",
    "subtitle: Time series with python\n",
    "date: '2024-03-01'\n",
    "categories: [Python, Pandas, time_series, ]\n",
    "author: Kunal Khurana\n",
    "jupyter: python3\n",
    "toc: True\n",
    "---"
   ]
  },
  {
   "cell_type": "markdown",
   "id": "7004f4a8",
   "metadata": {},
   "source": [
    "# Time Series\n",
    "\n",
    "## Date and Time Data types and tools\n",
    "- Converting between Sting and Datetime\n",
    "\n",
    "## Time series basics\n",
    "- Indexing, selection, subsetting\n",
    "- Time series with duplicate indices\n",
    "\n",
    "## Data Ranges, Frequencies, and Shifting\n",
    "- Generating Date Ranges\n",
    "- Frequencies and Date offsets\n",
    "- Shifting (Leading and Lagging) Data\n",
    "- Shifting dates with offsets\n",
    "\n",
    "## Time Zone Handling\n",
    "- Time zone Loacalization and Conversion\n",
    "- Operations with Time Zone-Aware Timestamp Objects\n",
    "- Operations between different time zones\n",
    "\n",
    "## Periods and Period Arithmetic\n",
    "- period frequency conversion\n",
    "- Quaterly period frequencies\n",
    "- Converting timestamps to periods (and back)\n",
    "- Creating a PeriodIndex from Arrays\n",
    "\n",
    "## Resampling and Frequency Conversion\n",
    "- Donwsampling\n",
    "- Open-high-low-close(OHLC) resampling\n",
    "- Unsampling and Interpolation\n",
    "- Resampling with periods\n",
    "- Grouped time resampling\n",
    "\n",
    "## Moving window functions\n",
    "- Exponentially weighted functions\n",
    "- Binary moving window functions\n",
    "- User-defined window functions\n"
   ]
  },
  {
   "cell_type": "code",
   "execution_count": 2,
   "id": "b7c113f4",
   "metadata": {},
   "outputs": [],
   "source": [
    "import pandas as pd\n",
    "import numpy as np\n",
    "import matplotlib.pyplot as plt\n",
    "\n",
    "from datetime import datetime\n"
   ]
  },
  {
   "cell_type": "code",
   "execution_count": 4,
   "id": "cd18cadd",
   "metadata": {},
   "outputs": [
    {
     "data": {
      "text/plain": [
       "datetime.datetime(2024, 2, 28, 11, 9, 33, 283067)"
      ]
     },
     "execution_count": 4,
     "metadata": {},
     "output_type": "execute_result"
    }
   ],
   "source": [
    "## Data and Time Data Types and Tools\n",
    "\n",
    "now = datetime.now()\n",
    "\n",
    "now"
   ]
  },
  {
   "cell_type": "code",
   "execution_count": 5,
   "id": "c23d9854",
   "metadata": {},
   "outputs": [
    {
     "data": {
      "text/plain": [
       "(2024, 2, 28)"
      ]
     },
     "execution_count": 5,
     "metadata": {},
     "output_type": "execute_result"
    }
   ],
   "source": [
    "now.year, now.month, now.day"
   ]
  },
  {
   "cell_type": "code",
   "execution_count": 7,
   "id": "4d29a132",
   "metadata": {},
   "outputs": [
    {
     "data": {
      "text/plain": [
       "datetime.timedelta(days=947, seconds=71936)"
      ]
     },
     "execution_count": 7,
     "metadata": {},
     "output_type": "execute_result"
    }
   ],
   "source": [
    "delta = datetime(2011, 1, 7) - datetime(2008, 6, 3, 4, 1, 4)\n",
    "\n",
    "delta"
   ]
  },
  {
   "cell_type": "code",
   "execution_count": 8,
   "id": "948e05b3",
   "metadata": {},
   "outputs": [
    {
     "data": {
      "text/plain": [
       "947"
      ]
     },
     "execution_count": 8,
     "metadata": {},
     "output_type": "execute_result"
    }
   ],
   "source": [
    "delta.days"
   ]
  },
  {
   "cell_type": "code",
   "execution_count": 9,
   "id": "4ca9ea42",
   "metadata": {},
   "outputs": [
    {
     "data": {
      "text/plain": [
       "71936"
      ]
     },
     "execution_count": 9,
     "metadata": {},
     "output_type": "execute_result"
    }
   ],
   "source": [
    "delta.seconds"
   ]
  },
  {
   "cell_type": "code",
   "execution_count": 11,
   "id": "d10385a1",
   "metadata": {},
   "outputs": [
    {
     "data": {
      "text/plain": [
       "datetime.datetime(2024, 3, 11, 0, 0)"
      ]
     },
     "execution_count": 11,
     "metadata": {},
     "output_type": "execute_result"
    }
   ],
   "source": [
    "# add or subtract a timedelta to yield a new shifted object\n",
    "\n",
    "from datetime import timedelta\n",
    "\n",
    "start = datetime(2024, 2, 28)\n",
    "\n",
    "start + timedelta(12)\n"
   ]
  },
  {
   "cell_type": "code",
   "execution_count": 12,
   "id": "192cfc21",
   "metadata": {},
   "outputs": [
    {
     "data": {
      "text/plain": [
       "datetime.datetime(2024, 2, 4, 0, 0)"
      ]
     },
     "execution_count": 12,
     "metadata": {},
     "output_type": "execute_result"
    }
   ],
   "source": [
    "start - 2 * timedelta(12)"
   ]
  },
  {
   "cell_type": "code",
   "execution_count": null,
   "id": "0b4e1506",
   "metadata": {},
   "outputs": [],
   "source": [
    "help(datetime)"
   ]
  },
  {
   "cell_type": "code",
   "execution_count": 15,
   "id": "a942df54",
   "metadata": {},
   "outputs": [
    {
     "data": {
      "text/plain": [
       "'2024-01-30 00:00:00'"
      ]
     },
     "execution_count": 15,
     "metadata": {},
     "output_type": "execute_result"
    }
   ],
   "source": [
    "### Converting between String and DateFrame\n",
    "\n",
    "stamp = datetime(2024, 1, 30)\n",
    "\n",
    "str(stamp)"
   ]
  },
  {
   "cell_type": "code",
   "execution_count": 16,
   "id": "417c9e3c",
   "metadata": {},
   "outputs": [
    {
     "data": {
      "text/plain": [
       "'2024-01-30'"
      ]
     },
     "execution_count": 16,
     "metadata": {},
     "output_type": "execute_result"
    }
   ],
   "source": [
    "stamp.strftime(\"%Y-%m-%d\")"
   ]
  },
  {
   "cell_type": "code",
   "execution_count": 20,
   "id": "7d54d013",
   "metadata": {},
   "outputs": [
    {
     "data": {
      "text/plain": [
       "datetime.datetime(2024, 2, 28, 0, 0)"
      ]
     },
     "execution_count": 20,
     "metadata": {},
     "output_type": "execute_result"
    }
   ],
   "source": [
    "value = '2024-2-28'\n",
    "datetime.strptime(value, '%Y-%m-%d')"
   ]
  },
  {
   "cell_type": "code",
   "execution_count": 26,
   "id": "564b3915",
   "metadata": {},
   "outputs": [
    {
     "data": {
      "text/plain": [
       "[datetime.datetime(2024, 2, 23, 0, 0), datetime.datetime(2024, 2, 28, 0, 0)]"
      ]
     },
     "execution_count": 26,
     "metadata": {},
     "output_type": "execute_result"
    }
   ],
   "source": [
    "datestrs = [\"2/23/2024\", \"2/28/2024\"]\n",
    "\n",
    "[datetime.strptime(x, \"%m/%d/%Y\") for x in datestrs]"
   ]
  },
  {
   "cell_type": "code",
   "execution_count": 27,
   "id": "af74370f",
   "metadata": {},
   "outputs": [],
   "source": [
    "# using pandas\n",
    "datestrs = [\"2024-2-23 12:00:00\", \"2024-2-28 00:00:00\"]"
   ]
  },
  {
   "cell_type": "code",
   "execution_count": 28,
   "id": "94cd0d8d",
   "metadata": {},
   "outputs": [
    {
     "data": {
      "text/plain": [
       "DatetimeIndex(['2024-02-23 12:00:00', '2024-02-28 00:00:00'], dtype='datetime64[ns]', freq=None)"
      ]
     },
     "execution_count": 28,
     "metadata": {},
     "output_type": "execute_result"
    }
   ],
   "source": [
    "pd.to_datetime(datestrs)"
   ]
  },
  {
   "cell_type": "code",
   "execution_count": 29,
   "id": "cc2d21ad",
   "metadata": {},
   "outputs": [],
   "source": [
    "idx = pd.to_datetime(datestrs+ [None])"
   ]
  },
  {
   "cell_type": "code",
   "execution_count": 30,
   "id": "0539cd8e",
   "metadata": {},
   "outputs": [
    {
     "data": {
      "text/plain": [
       "DatetimeIndex(['2024-02-23 12:00:00', '2024-02-28 00:00:00', 'NaT'], dtype='datetime64[ns]', freq=None)"
      ]
     },
     "execution_count": 30,
     "metadata": {},
     "output_type": "execute_result"
    }
   ],
   "source": [
    "idx"
   ]
  },
  {
   "cell_type": "code",
   "execution_count": 31,
   "id": "0b5c782f",
   "metadata": {},
   "outputs": [
    {
     "data": {
      "text/plain": [
       "NaT"
      ]
     },
     "execution_count": 31,
     "metadata": {},
     "output_type": "execute_result"
    }
   ],
   "source": [
    "idx[2]"
   ]
  },
  {
   "cell_type": "code",
   "execution_count": 34,
   "id": "dee53e6e",
   "metadata": {},
   "outputs": [
    {
     "data": {
      "text/plain": [
       "array([False, False,  True])"
      ]
     },
     "execution_count": 34,
     "metadata": {},
     "output_type": "execute_result"
    }
   ],
   "source": [
    "pd.isna(idx)"
   ]
  },
  {
   "cell_type": "markdown",
   "id": "1e6bbd62",
   "metadata": {},
   "source": [
    "## Time series basics"
   ]
  },
  {
   "cell_type": "code",
   "execution_count": 37,
   "id": "10099f7a",
   "metadata": {},
   "outputs": [],
   "source": [
    "dates = [datetime(2024,2,23), datetime(2024,2,24),\n",
    "        datetime(2024,2,25), datetime(2024,2,26),\n",
    "        datetime(2024,2,27), datetime(2024,2,28)]"
   ]
  },
  {
   "cell_type": "code",
   "execution_count": 38,
   "id": "5d0995ca",
   "metadata": {},
   "outputs": [],
   "source": [
    "ts = pd.Series(np.random.standard_normal(6),\n",
    "              index = dates)"
   ]
  },
  {
   "cell_type": "code",
   "execution_count": 39,
   "id": "6150c18e",
   "metadata": {},
   "outputs": [
    {
     "data": {
      "text/plain": [
       "2024-02-23    1.711187\n",
       "2024-02-24   -1.511684\n",
       "2024-02-25   -0.891120\n",
       "2024-02-26    0.525799\n",
       "2024-02-27   -1.431700\n",
       "2024-02-28    0.166120\n",
       "dtype: float64"
      ]
     },
     "execution_count": 39,
     "metadata": {},
     "output_type": "execute_result"
    }
   ],
   "source": [
    "ts"
   ]
  },
  {
   "cell_type": "code",
   "execution_count": 40,
   "id": "5aae4e92",
   "metadata": {},
   "outputs": [
    {
     "data": {
      "text/plain": [
       "DatetimeIndex(['2024-02-23', '2024-02-24', '2024-02-25', '2024-02-26',\n",
       "               '2024-02-27', '2024-02-28'],\n",
       "              dtype='datetime64[ns]', freq=None)"
      ]
     },
     "execution_count": 40,
     "metadata": {},
     "output_type": "execute_result"
    }
   ],
   "source": [
    "ts.index"
   ]
  },
  {
   "cell_type": "code",
   "execution_count": 41,
   "id": "3e2d17f2",
   "metadata": {},
   "outputs": [
    {
     "data": {
      "text/plain": [
       "2024-02-23    3.422373\n",
       "2024-02-24         NaN\n",
       "2024-02-25   -1.782240\n",
       "2024-02-26         NaN\n",
       "2024-02-27   -2.863400\n",
       "2024-02-28         NaN\n",
       "dtype: float64"
      ]
     },
     "execution_count": 41,
     "metadata": {},
     "output_type": "execute_result"
    }
   ],
   "source": [
    "ts + ts[::2]"
   ]
  },
  {
   "cell_type": "code",
   "execution_count": 42,
   "id": "a2b73a4b",
   "metadata": {},
   "outputs": [
    {
     "data": {
      "text/plain": [
       "dtype('<M8[ns]')"
      ]
     },
     "execution_count": 42,
     "metadata": {},
     "output_type": "execute_result"
    }
   ],
   "source": [
    "ts.index.dtype"
   ]
  },
  {
   "cell_type": "code",
   "execution_count": 43,
   "id": "58b0810d",
   "metadata": {},
   "outputs": [],
   "source": [
    "stamp = ts.index[0]"
   ]
  },
  {
   "cell_type": "code",
   "execution_count": 44,
   "id": "89d02ea6",
   "metadata": {},
   "outputs": [
    {
     "data": {
      "text/plain": [
       "Timestamp('2024-02-23 00:00:00')"
      ]
     },
     "execution_count": 44,
     "metadata": {},
     "output_type": "execute_result"
    }
   ],
   "source": [
    "stamp"
   ]
  },
  {
   "cell_type": "markdown",
   "id": "c9deccdc",
   "metadata": {},
   "source": [
    "### Indexing, Selection, Subsetting"
   ]
  },
  {
   "cell_type": "code",
   "execution_count": 45,
   "id": "0250194d",
   "metadata": {},
   "outputs": [],
   "source": [
    "stamp = ts.index[2]"
   ]
  },
  {
   "cell_type": "code",
   "execution_count": 46,
   "id": "c4b7f467",
   "metadata": {},
   "outputs": [
    {
     "data": {
      "text/plain": [
       "-0.8911199836482235"
      ]
     },
     "execution_count": 46,
     "metadata": {},
     "output_type": "execute_result"
    }
   ],
   "source": [
    "ts[stamp]"
   ]
  },
  {
   "cell_type": "code",
   "execution_count": 48,
   "id": "26dc504e",
   "metadata": {},
   "outputs": [
    {
     "data": {
      "text/plain": [
       "Timestamp('2024-02-25 00:00:00')"
      ]
     },
     "execution_count": 48,
     "metadata": {},
     "output_type": "execute_result"
    }
   ],
   "source": [
    "stamp"
   ]
  },
  {
   "cell_type": "code",
   "execution_count": 51,
   "id": "4c638139",
   "metadata": {},
   "outputs": [
    {
     "data": {
      "text/plain": [
       "-0.8911199836482235"
      ]
     },
     "execution_count": 51,
     "metadata": {},
     "output_type": "execute_result"
    }
   ],
   "source": [
    "ts[\"2024-02-25\"]"
   ]
  },
  {
   "cell_type": "code",
   "execution_count": 53,
   "id": "6aa86faf",
   "metadata": {},
   "outputs": [],
   "source": [
    "longer_ts = pd.Series(np.random.standard_normal(1000),\n",
    "                     index = pd.date_range(\"2000-01-01\", \n",
    "                                           periods=1000))"
   ]
  },
  {
   "cell_type": "code",
   "execution_count": 55,
   "id": "b26e7bd8",
   "metadata": {},
   "outputs": [
    {
     "data": {
      "text/plain": [
       "2000-01-01   -0.082193\n",
       "2000-01-02    0.326903\n",
       "2000-01-03   -1.096137\n",
       "2000-01-04   -0.719159\n",
       "2000-01-05   -0.267210\n",
       "                ...   \n",
       "2002-09-22    0.589006\n",
       "2002-09-23   -1.248204\n",
       "2002-09-24    0.499634\n",
       "2002-09-25   -0.878508\n",
       "2002-09-26   -0.126318\n",
       "Freq: D, Length: 1000, dtype: float64"
      ]
     },
     "execution_count": 55,
     "metadata": {},
     "output_type": "execute_result"
    }
   ],
   "source": [
    "longer_ts"
   ]
  },
  {
   "cell_type": "code",
   "execution_count": 57,
   "id": "cadcc95a",
   "metadata": {},
   "outputs": [
    {
     "data": {
      "text/plain": [
       "2001-01-01    2.014188\n",
       "2001-01-02   -0.343596\n",
       "2001-01-03    0.376814\n",
       "2001-01-04   -1.255311\n",
       "2001-01-05   -2.419849\n",
       "                ...   \n",
       "2001-12-27    0.390457\n",
       "2001-12-28    0.734758\n",
       "2001-12-29   -1.082129\n",
       "2001-12-30   -1.775678\n",
       "2001-12-31   -1.224774\n",
       "Freq: D, Length: 365, dtype: float64"
      ]
     },
     "execution_count": 57,
     "metadata": {},
     "output_type": "execute_result"
    }
   ],
   "source": [
    "longer_ts[\"2001\"]"
   ]
  },
  {
   "cell_type": "code",
   "execution_count": 58,
   "id": "2e0a3440",
   "metadata": {},
   "outputs": [
    {
     "data": {
      "text/plain": [
       "2001-05-01   -1.144894\n",
       "2001-05-02    2.971409\n",
       "2001-05-03    0.548497\n",
       "2001-05-04   -1.250213\n",
       "2001-05-05    0.200735\n",
       "2001-05-06   -1.326385\n",
       "2001-05-07    1.086268\n",
       "2001-05-08    0.265488\n",
       "2001-05-09    0.770084\n",
       "2001-05-10    0.199019\n",
       "2001-05-11   -1.069022\n",
       "2001-05-12   -0.039820\n",
       "2001-05-13    0.017193\n",
       "2001-05-14   -0.307260\n",
       "2001-05-15   -0.371033\n",
       "2001-05-16    0.387411\n",
       "2001-05-17   -0.640516\n",
       "2001-05-18    1.024957\n",
       "2001-05-19    0.880015\n",
       "2001-05-20    0.692794\n",
       "2001-05-21   -0.911137\n",
       "2001-05-22    0.579512\n",
       "2001-05-23    1.211284\n",
       "2001-05-24    0.816900\n",
       "2001-05-25   -1.654473\n",
       "2001-05-26   -1.113558\n",
       "2001-05-27    0.877119\n",
       "2001-05-28   -3.241814\n",
       "2001-05-29    0.244903\n",
       "2001-05-30   -0.335317\n",
       "2001-05-31    2.499217\n",
       "Freq: D, dtype: float64"
      ]
     },
     "execution_count": 58,
     "metadata": {},
     "output_type": "execute_result"
    }
   ],
   "source": [
    "longer_ts[\"2001-05\"]"
   ]
  },
  {
   "cell_type": "code",
   "execution_count": 59,
   "id": "d8dcdba6",
   "metadata": {},
   "outputs": [
    {
     "data": {
      "text/plain": [
       "2024-02-23    1.711187\n",
       "2024-02-24   -1.511684\n",
       "2024-02-25   -0.891120\n",
       "2024-02-26    0.525799\n",
       "2024-02-27   -1.431700\n",
       "2024-02-28    0.166120\n",
       "dtype: float64"
      ]
     },
     "execution_count": 59,
     "metadata": {},
     "output_type": "execute_result"
    }
   ],
   "source": [
    "# slicing with datatime objects works aswell\n",
    "\n",
    "ts[datetime(2011,1,7):]"
   ]
  },
  {
   "cell_type": "code",
   "execution_count": null,
   "id": "12d7fe05",
   "metadata": {},
   "outputs": [],
   "source": []
  }
 ],
 "metadata": {
  "kernelspec": {
   "display_name": "Python 3 (ipykernel)",
   "language": "python",
   "name": "python3"
  },
  "language_info": {
   "codemirror_mode": {
    "name": "ipython",
    "version": 3
   },
   "file_extension": ".py",
   "mimetype": "text/x-python",
   "name": "python",
   "nbconvert_exporter": "python",
   "pygments_lexer": "ipython3",
   "version": "3.9.13"
  }
 },
 "nbformat": 4,
 "nbformat_minor": 5
}
