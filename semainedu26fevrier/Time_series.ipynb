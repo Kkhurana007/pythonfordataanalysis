{
 "cells": [
  {
   "cell_type": "markdown",
   "id": "bdc973a4",
   "metadata": {},
   "source": [
    "---\n",
    "#image: dataloading.png\n",
    "title: Data plotting\n",
    "subtitle: Time series with python\n",
    "date: '2024-03-01'\n",
    "categories: [Python, Pandas, time_series]\n",
    "author: Kunal Khurana\n",
    "jupyter: python3\n",
    "toc: True\n",
    "---"
   ]
  },
  {
   "cell_type": "markdown",
   "id": "7004f4a8",
   "metadata": {},
   "source": [
    "# Time Series\n",
    "\n",
    "## Date and Time Data types and tools\n",
    "- Converting between Sting and Datetime\n",
    "\n",
    "## Time series basics\n",
    "- Indexing, selection, subsetting\n",
    "- Time series with duplicate indices\n",
    "\n",
    "## Data Ranges, Frequencies, and Shifting\n",
    "- Generating Date Ranges\n",
    "- Frequencies and Date offsets\n",
    "- Shifting (Leading and Lagging) Data\n",
    "- Shifting dates with offsets\n",
    "\n",
    "## Time Zone Handling\n",
    "- Time zone Loacalization and Conversion\n",
    "- Operations with Time Zone-Aware Timestamp Objects\n",
    "- Operations between different time zones\n",
    "\n",
    "## Periods and Period Arithmetic\n",
    "- period frequency conversion\n",
    "- Quaterly period frequencies\n",
    "- Converting timestamps to periods (and back)\n",
    "- Creating a PeriodIndex from Arrays\n",
    "\n",
    "## Resampling and Frequency Conversion\n",
    "- Donwsampling\n",
    "- Open-high-low-close(OHLC) resampling\n",
    "- Unsampling and Interpolation\n",
    "- Resampling with periods\n",
    "- Grouped time resampling\n",
    "\n",
    "## Moving window functions\n",
    "- Exponentially weighted functions\n",
    "- Binary moving window functions\n",
    "- User-defined window functions\n"
   ]
  },
  {
   "cell_type": "code",
   "execution_count": null,
   "id": "b7c113f4",
   "metadata": {},
   "outputs": [],
   "source": [
    "import pandas as pd\n",
    "import numpy as np\n",
    "import matplotlib.pyplot as plt\n",
    "\n",
    "from datetime import datetime\n"
   ]
  },
  {
   "cell_type": "code",
   "execution_count": null,
   "id": "cd18cadd",
   "metadata": {},
   "outputs": [],
   "source": [
    "## Data and Time Data Types and Tools\n",
    "\n",
    "now = datetime.now()\n",
    "\n",
    "now"
   ]
  },
  {
   "cell_type": "code",
   "execution_count": null,
   "id": "c23d9854",
   "metadata": {},
   "outputs": [],
   "source": [
    "now.year, now.month, now.day"
   ]
  },
  {
   "cell_type": "code",
   "execution_count": null,
   "id": "4d29a132",
   "metadata": {},
   "outputs": [],
   "source": [
    "delta = datetime(2011, 1, 7) - datetime(2008, 6, 3, 4, 1, 4)\n",
    "\n",
    "delta"
   ]
  },
  {
   "cell_type": "code",
   "execution_count": null,
   "id": "948e05b3",
   "metadata": {},
   "outputs": [],
   "source": [
    "delta.days"
   ]
  },
  {
   "cell_type": "code",
   "execution_count": null,
   "id": "4ca9ea42",
   "metadata": {},
   "outputs": [],
   "source": [
    "delta.seconds"
   ]
  },
  {
   "cell_type": "code",
   "execution_count": null,
   "id": "d10385a1",
   "metadata": {},
   "outputs": [],
   "source": [
    "# add or subtract a timedelta to yield a new shifted object\n",
    "\n",
    "from datetime import timedelta\n",
    "\n",
    "start = datetime(2024, 2, 28)\n",
    "\n",
    "start + timedelta(12)\n"
   ]
  },
  {
   "cell_type": "code",
   "execution_count": null,
   "id": "192cfc21",
   "metadata": {},
   "outputs": [],
   "source": [
    "start - 2 * timedelta(12)"
   ]
  },
  {
   "cell_type": "code",
   "execution_count": null,
   "id": "0b4e1506",
   "metadata": {},
   "outputs": [],
   "source": [
    "help(datetime)"
   ]
  },
  {
   "cell_type": "code",
   "execution_count": null,
   "id": "a942df54",
   "metadata": {},
   "outputs": [],
   "source": [
    "### Converting between String and DateFrame\n",
    "\n",
    "stamp = datetime(2024, 1, 30)\n",
    "\n",
    "str(stamp)"
   ]
  },
  {
   "cell_type": "code",
   "execution_count": null,
   "id": "417c9e3c",
   "metadata": {},
   "outputs": [],
   "source": [
    "stamp.strftime(\"%Y-%m-%d\")"
   ]
  },
  {
   "cell_type": "code",
   "execution_count": null,
   "id": "7d54d013",
   "metadata": {},
   "outputs": [],
   "source": [
    "value = '2024-2-28'\n",
    "datetime.strptime(value, '%Y-%m-%d')"
   ]
  },
  {
   "cell_type": "code",
   "execution_count": null,
   "id": "564b3915",
   "metadata": {},
   "outputs": [],
   "source": [
    "datestrs = [\"2/23/2024\", \"2/28/2024\"]\n",
    "\n",
    "[datetime.strptime(x, \"%m/%d/%Y\") for x in datestrs]"
   ]
  },
  {
   "cell_type": "code",
   "execution_count": null,
   "id": "af74370f",
   "metadata": {},
   "outputs": [],
   "source": [
    "# using pandas\n",
    "datestrs = [\"2024-2-23 12:00:00\", \"2024-2-28 00:00:00\"]"
   ]
  },
  {
   "cell_type": "code",
   "execution_count": null,
   "id": "94cd0d8d",
   "metadata": {},
   "outputs": [],
   "source": [
    "pd.to_datetime(datestrs)"
   ]
  },
  {
   "cell_type": "code",
   "execution_count": null,
   "id": "cc2d21ad",
   "metadata": {},
   "outputs": [],
   "source": [
    "idx = pd.to_datetime(datestrs+ [None])"
   ]
  },
  {
   "cell_type": "code",
   "execution_count": null,
   "id": "0539cd8e",
   "metadata": {},
   "outputs": [],
   "source": [
    "idx"
   ]
  },
  {
   "cell_type": "code",
   "execution_count": null,
   "id": "0b5c782f",
   "metadata": {},
   "outputs": [],
   "source": [
    "idx[2]"
   ]
  },
  {
   "cell_type": "code",
   "execution_count": null,
   "id": "dee53e6e",
   "metadata": {},
   "outputs": [],
   "source": [
    "pd.isna(idx)"
   ]
  },
  {
   "cell_type": "markdown",
   "id": "1e6bbd62",
   "metadata": {},
   "source": [
    "## Time series basics"
   ]
  },
  {
   "cell_type": "code",
   "execution_count": null,
   "id": "10099f7a",
   "metadata": {},
   "outputs": [],
   "source": [
    "dates = [datetime(2024,2,23), datetime(2024,2,24),\n",
    "        datetime(2024,2,25), datetime(2024,2,26),\n",
    "        datetime(2024,2,27), datetime(2024,2,28)]"
   ]
  },
  {
   "cell_type": "code",
   "execution_count": null,
   "id": "5d0995ca",
   "metadata": {},
   "outputs": [],
   "source": [
    "ts = pd.Series(np.random.standard_normal(6),\n",
    "              index = dates)"
   ]
  },
  {
   "cell_type": "code",
   "execution_count": null,
   "id": "6150c18e",
   "metadata": {},
   "outputs": [],
   "source": [
    "ts"
   ]
  },
  {
   "cell_type": "code",
   "execution_count": null,
   "id": "5aae4e92",
   "metadata": {},
   "outputs": [],
   "source": [
    "ts.index"
   ]
  },
  {
   "cell_type": "code",
   "execution_count": null,
   "id": "3e2d17f2",
   "metadata": {},
   "outputs": [],
   "source": [
    "ts + ts[::2]"
   ]
  },
  {
   "cell_type": "code",
   "execution_count": null,
   "id": "a2b73a4b",
   "metadata": {},
   "outputs": [],
   "source": [
    "ts.index.dtype"
   ]
  },
  {
   "cell_type": "code",
   "execution_count": null,
   "id": "58b0810d",
   "metadata": {},
   "outputs": [],
   "source": [
    "stamp = ts.index[0]"
   ]
  },
  {
   "cell_type": "code",
   "execution_count": null,
   "id": "89d02ea6",
   "metadata": {},
   "outputs": [],
   "source": [
    "stamp"
   ]
  },
  {
   "cell_type": "markdown",
   "id": "c9deccdc",
   "metadata": {},
   "source": [
    "### Indexing, Selection, Subsetting"
   ]
  },
  {
   "cell_type": "code",
   "execution_count": null,
   "id": "0250194d",
   "metadata": {},
   "outputs": [],
   "source": [
    "stamp = ts.index[2]"
   ]
  },
  {
   "cell_type": "code",
   "execution_count": null,
   "id": "c4b7f467",
   "metadata": {},
   "outputs": [],
   "source": [
    "ts[stamp]"
   ]
  },
  {
   "cell_type": "code",
   "execution_count": null,
   "id": "26dc504e",
   "metadata": {},
   "outputs": [],
   "source": [
    "stamp"
   ]
  },
  {
   "cell_type": "code",
   "execution_count": null,
   "id": "4c638139",
   "metadata": {},
   "outputs": [],
   "source": [
    "ts[\"2024-02-25\"]"
   ]
  },
  {
   "cell_type": "code",
   "execution_count": null,
   "id": "6aa86faf",
   "metadata": {},
   "outputs": [],
   "source": [
    "longer_ts = pd.Series(np.random.standard_normal(1000),\n",
    "                     index = pd.date_range(\"2000-01-01\", \n",
    "                                           periods=1000))"
   ]
  },
  {
   "cell_type": "code",
   "execution_count": null,
   "id": "b26e7bd8",
   "metadata": {},
   "outputs": [],
   "source": [
    "longer_ts"
   ]
  },
  {
   "cell_type": "code",
   "execution_count": null,
   "id": "cadcc95a",
   "metadata": {},
   "outputs": [],
   "source": [
    "longer_ts[\"2001\"]"
   ]
  },
  {
   "cell_type": "code",
   "execution_count": null,
   "id": "2e0a3440",
   "metadata": {},
   "outputs": [],
   "source": [
    "longer_ts[\"2001-05\"]"
   ]
  },
  {
   "cell_type": "code",
   "execution_count": null,
   "id": "d8dcdba6",
   "metadata": {},
   "outputs": [],
   "source": [
    "# slicing with datatime objects works aswell\n",
    "\n",
    "ts[datetime(2011,1,7):]"
   ]
  },
  {
   "cell_type": "code",
   "execution_count": null,
   "id": "12d7fe05",
   "metadata": {},
   "outputs": [],
   "source": [
    "ts.truncate(after=\"2001-01-09\")"
   ]
  },
  {
   "cell_type": "code",
   "execution_count": null,
   "id": "0b8e7360",
   "metadata": {},
   "outputs": [],
   "source": [
    "# for DataFrame\n",
    "dates_df = pd.date_range(\"2024-01-01\", \n",
    "                         periods=100,\n",
    "                        freq= \"W-WED\")"
   ]
  },
  {
   "cell_type": "code",
   "execution_count": null,
   "id": "cfbe977a",
   "metadata": {},
   "outputs": [],
   "source": [
    "long_df = pd.DataFrame(np.random.standard_normal((6, 4)),\n",
    "                      index = dates, \n",
    "                      columns = ['Colorado', 'Texas', \n",
    "                                'New York', \"Ohio\"])\n",
    "\n"
   ]
  },
  {
   "cell_type": "code",
   "execution_count": null,
   "id": "c55c125c",
   "metadata": {},
   "outputs": [],
   "source": [
    "long_df.loc[\"2011-05-01\"]"
   ]
  },
  {
   "cell_type": "markdown",
   "id": "095ddef1",
   "metadata": {},
   "source": [
    "### Time series with duplicate indices"
   ]
  },
  {
   "cell_type": "code",
   "execution_count": null,
   "id": "b5d402eb",
   "metadata": {},
   "outputs": [],
   "source": [
    "dates = pd.DatetimeIndex([\"2017-12-03\", \"2018-11-06\", \"2019-11-06\",\n",
    "                          \"2021-01-28\", \"2022-09-06\"])\n",
    "\n",
    "dup_ts = pd.Series(np.arange(5), index=dates)"
   ]
  },
  {
   "cell_type": "code",
   "execution_count": null,
   "id": "27b4d3e6",
   "metadata": {},
   "outputs": [],
   "source": [
    "dup_ts"
   ]
  },
  {
   "cell_type": "code",
   "execution_count": null,
   "id": "11d767b1",
   "metadata": {},
   "outputs": [],
   "source": [
    "# checking if the index is unique\n",
    "dup_ts.index.is_unique"
   ]
  },
  {
   "cell_type": "code",
   "execution_count": null,
   "id": "5d235adc",
   "metadata": {},
   "outputs": [],
   "source": [
    "# unique indexes can be grouped\n",
    "grouped = dup_ts.groupby(level=0)"
   ]
  },
  {
   "cell_type": "code",
   "execution_count": null,
   "id": "d5e4932f",
   "metadata": {},
   "outputs": [],
   "source": [
    "grouped.mean()"
   ]
  },
  {
   "cell_type": "code",
   "execution_count": null,
   "id": "c2a682ec",
   "metadata": {},
   "outputs": [],
   "source": [
    "grouped.count()"
   ]
  },
  {
   "cell_type": "markdown",
   "id": "00f1bfc7",
   "metadata": {},
   "source": [
    "## Data Ranges, Frequencies, and Shifting"
   ]
  },
  {
   "cell_type": "code",
   "execution_count": null,
   "id": "3f55521a",
   "metadata": {},
   "outputs": [],
   "source": [
    "ts"
   ]
  },
  {
   "cell_type": "code",
   "execution_count": null,
   "id": "e995a648",
   "metadata": {},
   "outputs": [],
   "source": [
    "resampler = ts.resample(\"D\")"
   ]
  },
  {
   "cell_type": "code",
   "execution_count": null,
   "id": "90ef657d",
   "metadata": {},
   "outputs": [],
   "source": [
    "resampler"
   ]
  },
  {
   "cell_type": "markdown",
   "id": "4004f848",
   "metadata": {},
   "source": [
    "### Generating date ranges\n",
    "\n",
    "- [shortcut details](https://learning.oreilly.com/library/view/python-for-data/9781098104023/ch11.html#table_base_frequencies)"
   ]
  },
  {
   "cell_type": "code",
   "execution_count": null,
   "id": "c7248bcb",
   "metadata": {},
   "outputs": [],
   "source": [
    "index = pd.date_range(\"2012-04-01\", \"2012-06-01\")\n",
    "index"
   ]
  },
  {
   "cell_type": "code",
   "execution_count": null,
   "id": "edbef205",
   "metadata": {},
   "outputs": [],
   "source": [
    "pd.date_range(start=\"2024-04-01\", periods=20)"
   ]
  },
  {
   "cell_type": "code",
   "execution_count": null,
   "id": "ee9650f5",
   "metadata": {},
   "outputs": [],
   "source": [
    "pd.date_range(end=\"2024-03-24\", periods=20)"
   ]
  },
  {
   "cell_type": "code",
   "execution_count": null,
   "id": "1c5ce4ce",
   "metadata": {},
   "outputs": [],
   "source": [
    "pd.date_range(\"2000-01-01\", '2000-12-01', freq=\"BM\")"
   ]
  },
  {
   "cell_type": "markdown",
   "id": "299e6a60",
   "metadata": {},
   "source": [
    "### Frequencies and date offsets"
   ]
  },
  {
   "cell_type": "code",
   "execution_count": null,
   "id": "5f7f89e4",
   "metadata": {},
   "outputs": [],
   "source": [
    "from pandas.tseries.offsets import Hour, Minute"
   ]
  },
  {
   "cell_type": "code",
   "execution_count": null,
   "id": "02215fd1",
   "metadata": {},
   "outputs": [],
   "source": [
    "hour = Hour()"
   ]
  },
  {
   "cell_type": "code",
   "execution_count": null,
   "id": "e33b1857",
   "metadata": {},
   "outputs": [],
   "source": [
    "hour"
   ]
  },
  {
   "cell_type": "code",
   "execution_count": null,
   "id": "f23763d0",
   "metadata": {},
   "outputs": [],
   "source": [
    "four_hours = Hour(4)"
   ]
  },
  {
   "cell_type": "code",
   "execution_count": null,
   "id": "81a871d3",
   "metadata": {},
   "outputs": [],
   "source": [
    "four_hours"
   ]
  },
  {
   "cell_type": "code",
   "execution_count": null,
   "id": "89956ad1",
   "metadata": {},
   "outputs": [],
   "source": [
    "# combined addition\n",
    "Hour(2) + Minute(30)"
   ]
  },
  {
   "cell_type": "code",
   "execution_count": null,
   "id": "daf89186",
   "metadata": {},
   "outputs": [],
   "source": [
    "pd.date_range(\"2023-05-01\", periods = 10, freq='1h30min')"
   ]
  },
  {
   "cell_type": "code",
   "execution_count": null,
   "id": "08b65565",
   "metadata": {},
   "outputs": [],
   "source": [
    "# week of month dates\n",
    "monthly_dates = pd.date_range(\"2012-01-01\", \"2012-09-01\",\n",
    "                             freq=\"WOM-3FRI\")\n",
    "list(monthly_dates)"
   ]
  },
  {
   "cell_type": "markdown",
   "id": "5d70eca0",
   "metadata": {},
   "source": [
    "### Shifting (Leading and Lagging Data)\n",
    "- moving backward and forward through time"
   ]
  },
  {
   "cell_type": "code",
   "execution_count": null,
   "id": "998990a9",
   "metadata": {},
   "outputs": [],
   "source": [
    "ts = pd.Series(np.random.standard_normal(4),\n",
    "              index=pd.date_range(\"2022-01-01\", periods=4,\n",
    "                                 freq=\"M\"))\n",
    "ts"
   ]
  },
  {
   "cell_type": "code",
   "execution_count": null,
   "id": "5c755e32",
   "metadata": {},
   "outputs": [],
   "source": [
    "ts.shift(2)"
   ]
  },
  {
   "cell_type": "code",
   "execution_count": null,
   "id": "476aa6bb",
   "metadata": {},
   "outputs": [],
   "source": [
    "ts.shift(-2)"
   ]
  },
  {
   "cell_type": "code",
   "execution_count": null,
   "id": "ac08b374",
   "metadata": {},
   "outputs": [],
   "source": [
    "ts/ts.shift(1)-1"
   ]
  },
  {
   "cell_type": "code",
   "execution_count": null,
   "id": "9f5d55e9",
   "metadata": {},
   "outputs": [],
   "source": [
    "ts.shift(2, freq=\"M\")"
   ]
  },
  {
   "cell_type": "code",
   "execution_count": null,
   "id": "a653a7fe",
   "metadata": {},
   "outputs": [],
   "source": [
    "# groupby\n",
    "ts = pd.Series(np.random.standard_normal(20),\n",
    "              index=pd.date_range(\"2024-10-02\",\n",
    "                                 periods=20, freq=\"4D\"))\n"
   ]
  },
  {
   "cell_type": "code",
   "execution_count": null,
   "id": "71240f1b",
   "metadata": {},
   "outputs": [],
   "source": [
    "ts"
   ]
  },
  {
   "cell_type": "code",
   "execution_count": null,
   "id": "66742355",
   "metadata": {},
   "outputs": [],
   "source": [
    "ts.groupby(MonthEnd().rollfoward).mean()"
   ]
  },
  {
   "cell_type": "code",
   "execution_count": 55,
   "id": "af1a3301",
   "metadata": {},
   "outputs": [
    {
     "data": {
      "text/plain": [
       "2024-10-31    0.076767\n",
       "2024-11-30   -0.177065\n",
       "2024-12-31    0.635081\n",
       "Freq: M, dtype: float64"
      ]
     },
     "execution_count": 55,
     "metadata": {},
     "output_type": "execute_result"
    }
   ],
   "source": [
    "ts.resample(\"M\").mean()"
   ]
  },
  {
   "cell_type": "markdown",
   "id": "8fdcbe3e",
   "metadata": {},
   "source": [
    "## Time Zone handling"
   ]
  },
  {
   "cell_type": "code",
   "execution_count": 56,
   "id": "7604883b",
   "metadata": {},
   "outputs": [
    {
     "data": {
      "text/plain": [
       "['US/Eastern', 'US/Hawaii', 'US/Mountain', 'US/Pacific', 'UTC']"
      ]
     },
     "execution_count": 56,
     "metadata": {},
     "output_type": "execute_result"
    }
   ],
   "source": [
    "import pytz\n",
    "\n",
    "pytz.common_timezones[-5:]"
   ]
  },
  {
   "cell_type": "code",
   "execution_count": 57,
   "id": "73767d86",
   "metadata": {},
   "outputs": [
    {
     "data": {
      "text/plain": [
       "<DstTzInfo 'America/New_York' LMT-1 day, 19:04:00 STD>"
      ]
     },
     "execution_count": 57,
     "metadata": {},
     "output_type": "execute_result"
    }
   ],
   "source": [
    "# to get timezones, use pytz.timezone\n",
    "\n",
    "tz = pytz.timezone(\"America/New_York\")\n",
    "\n",
    "tz"
   ]
  },
  {
   "cell_type": "code",
   "execution_count": 58,
   "id": "44d3f669",
   "metadata": {},
   "outputs": [],
   "source": [
    "### Time zone localization and conversion\n",
    "dates = pd.date_range(\"2021-11-17 09:30\", periods=6)"
   ]
  },
  {
   "cell_type": "code",
   "execution_count": 59,
   "id": "bde8132d",
   "metadata": {},
   "outputs": [],
   "source": [
    "ts = pd.Series(np.random.standard_normal(len(dates)),\n",
    "              index = dates)"
   ]
  },
  {
   "cell_type": "code",
   "execution_count": 60,
   "id": "dbef6c95",
   "metadata": {},
   "outputs": [
    {
     "data": {
      "text/plain": [
       "2021-11-17 09:30:00    0.808643\n",
       "2021-11-18 09:30:00    1.435830\n",
       "2021-11-19 09:30:00    0.764818\n",
       "2021-11-20 09:30:00    0.345263\n",
       "2021-11-21 09:30:00   -0.671032\n",
       "2021-11-22 09:30:00    0.694027\n",
       "Freq: D, dtype: float64"
      ]
     },
     "execution_count": 60,
     "metadata": {},
     "output_type": "execute_result"
    }
   ],
   "source": [
    "ts"
   ]
  },
  {
   "cell_type": "code",
   "execution_count": 61,
   "id": "8053a694",
   "metadata": {},
   "outputs": [
    {
     "name": "stdout",
     "output_type": "stream",
     "text": [
      "None\n"
     ]
    }
   ],
   "source": [
    "print(ts.index.tz)"
   ]
  },
  {
   "cell_type": "code",
   "execution_count": 62,
   "id": "ff782a8e",
   "metadata": {},
   "outputs": [
    {
     "data": {
      "text/plain": [
       "DatetimeIndex(['2023-03-01 00:00:00+00:00', '2023-03-02 00:00:00+00:00',\n",
       "               '2023-03-03 00:00:00+00:00', '2023-03-04 00:00:00+00:00',\n",
       "               '2023-03-05 00:00:00+00:00', '2023-03-06 00:00:00+00:00',\n",
       "               '2023-03-07 00:00:00+00:00', '2023-03-08 00:00:00+00:00',\n",
       "               '2023-03-09 00:00:00+00:00', '2023-03-10 00:00:00+00:00'],\n",
       "              dtype='datetime64[ns, UTC]', freq='D')"
      ]
     },
     "execution_count": 62,
     "metadata": {},
     "output_type": "execute_result"
    }
   ],
   "source": [
    "# Dates from timezone set\n",
    "pd.date_range(\"2023-3-01\", periods=10, tz=\"UTC\")"
   ]
  },
  {
   "cell_type": "markdown",
   "id": "879f5cca",
   "metadata": {},
   "source": [
    "## Periods and Period Arithmetic"
   ]
  },
  {
   "cell_type": "code",
   "execution_count": 65,
   "id": "62118d8f",
   "metadata": {},
   "outputs": [
    {
     "data": {
      "text/plain": [
       "0    0.434382\n",
       "1    1.383303\n",
       "2    0.975721\n",
       "3   -1.377090\n",
       "4    0.659404\n",
       "5    1.098894\n",
       "dtype: float64"
      ]
     },
     "execution_count": 65,
     "metadata": {},
     "output_type": "execute_result"
    }
   ],
   "source": [
    "pd.Series(np.random.standard_normal(6),\n",
    "       )"
   ]
  },
  {
   "cell_type": "code",
   "execution_count": 66,
   "id": "16fc78ec",
   "metadata": {},
   "outputs": [],
   "source": [
    "values= [\"2001Q3\", \"20022Q2\", '20033Q1']"
   ]
  },
  {
   "cell_type": "code",
   "execution_count": 68,
   "id": "20f1450c",
   "metadata": {},
   "outputs": [],
   "source": [
    "periods = pd.period_range(\"2000-01-01\", \"2000-06-30\",\n",
    "                          freq=\"M\")"
   ]
  },
  {
   "cell_type": "code",
   "execution_count": null,
   "id": "a2dc7ee8",
   "metadata": {},
   "outputs": [],
   "source": [
    "index = pd.PeriodIndex(values, freq=\"Q-Dec\")"
   ]
  },
  {
   "cell_type": "code",
   "execution_count": 70,
   "id": "9d43253f",
   "metadata": {},
   "outputs": [],
   "source": [
    "p = pd.Period(\"2011\", freq= \"A-Jun\")"
   ]
  },
  {
   "cell_type": "code",
   "execution_count": 71,
   "id": "24007cac",
   "metadata": {},
   "outputs": [
    {
     "data": {
      "text/plain": [
       "Period('2011', 'A-JUN')"
      ]
     },
     "execution_count": 71,
     "metadata": {},
     "output_type": "execute_result"
    }
   ],
   "source": [
    "p"
   ]
  },
  {
   "cell_type": "code",
   "execution_count": 72,
   "id": "b65ecc74",
   "metadata": {},
   "outputs": [
    {
     "data": {
      "text/plain": [
       "Period('2010-07', 'M')"
      ]
     },
     "execution_count": 72,
     "metadata": {},
     "output_type": "execute_result"
    }
   ],
   "source": [
    "p.asfreq(\"M\", how='start')"
   ]
  },
  {
   "cell_type": "code",
   "execution_count": 73,
   "id": "77e2c367",
   "metadata": {},
   "outputs": [
    {
     "data": {
      "text/plain": [
       "Period('2011-06', 'M')"
      ]
     },
     "execution_count": 73,
     "metadata": {},
     "output_type": "execute_result"
    }
   ],
   "source": [
    "p.asfreq(\"M\", how=\"end\")"
   ]
  },
  {
   "cell_type": "code",
   "execution_count": 74,
   "id": "26dc9553",
   "metadata": {},
   "outputs": [],
   "source": [
    "# period index\n",
    "periods = pd.period_range(\"2006\", \"2009\", \n",
    "                         freq=\"A-Dec\")"
   ]
  },
  {
   "cell_type": "code",
   "execution_count": 77,
   "id": "6c42b695",
   "metadata": {},
   "outputs": [],
   "source": [
    "ts= pd.Series(np.random.standard_normal\n",
    "             (len(periods)), index= periods)"
   ]
  },
  {
   "cell_type": "code",
   "execution_count": 78,
   "id": "d32111c5",
   "metadata": {},
   "outputs": [
    {
     "data": {
      "text/plain": [
       "2006    1.079865\n",
       "2007   -1.891582\n",
       "2008   -0.634198\n",
       "2009    0.155782\n",
       "Freq: A-DEC, dtype: float64"
      ]
     },
     "execution_count": 78,
     "metadata": {},
     "output_type": "execute_result"
    }
   ],
   "source": [
    "ts"
   ]
  },
  {
   "cell_type": "code",
   "execution_count": 82,
   "id": "2a224863",
   "metadata": {},
   "outputs": [
    {
     "data": {
      "text/plain": [
       "2006-01    1.079865\n",
       "2007-01   -1.891582\n",
       "2008-01   -0.634198\n",
       "2009-01    0.155782\n",
       "Freq: M, dtype: float64"
      ]
     },
     "execution_count": 82,
     "metadata": {},
     "output_type": "execute_result"
    }
   ],
   "source": [
    "ts.asfreq(\"M\", how='start')"
   ]
  },
  {
   "cell_type": "markdown",
   "id": "7ea9a623",
   "metadata": {},
   "source": [
    "### Converting timestamps to periods (and back)"
   ]
  },
  {
   "cell_type": "code",
   "execution_count": 83,
   "id": "9f786a73",
   "metadata": {},
   "outputs": [],
   "source": [
    "dates = pd.date_range(\"2000-01-01\",\n",
    "                     periods=3, freq=\"M\")"
   ]
  },
  {
   "cell_type": "code",
   "execution_count": 84,
   "id": "d4ae0472",
   "metadata": {},
   "outputs": [],
   "source": [
    "ts= pd.Series(np.random.standard_normal(3),\n",
    "             index=dates)"
   ]
  },
  {
   "cell_type": "code",
   "execution_count": 85,
   "id": "df4cc81d",
   "metadata": {},
   "outputs": [
    {
     "data": {
      "text/plain": [
       "2000-01-31   -1.472182\n",
       "2000-02-29    0.042816\n",
       "2000-03-31    1.232869\n",
       "Freq: M, dtype: float64"
      ]
     },
     "execution_count": 85,
     "metadata": {},
     "output_type": "execute_result"
    }
   ],
   "source": [
    "ts"
   ]
  },
  {
   "cell_type": "code",
   "execution_count": 86,
   "id": "4e0e7a8f",
   "metadata": {},
   "outputs": [],
   "source": [
    "pts = ts.to_period()"
   ]
  },
  {
   "cell_type": "code",
   "execution_count": 87,
   "id": "2813da4b",
   "metadata": {},
   "outputs": [
    {
     "data": {
      "text/plain": [
       "2000-01   -1.472182\n",
       "2000-02    0.042816\n",
       "2000-03    1.232869\n",
       "Freq: M, dtype: float64"
      ]
     },
     "execution_count": 87,
     "metadata": {},
     "output_type": "execute_result"
    }
   ],
   "source": [
    "pts"
   ]
  },
  {
   "cell_type": "code",
   "execution_count": 89,
   "id": "980c16fc",
   "metadata": {},
   "outputs": [],
   "source": [
    "dates = pd.date_range(\"2022-01-29\", periods=6)"
   ]
  },
  {
   "cell_type": "code",
   "execution_count": 90,
   "id": "afb634ca",
   "metadata": {},
   "outputs": [],
   "source": [
    "ts2 = pd.Series(np.random.standard_normal(6),\n",
    "               index= dates)"
   ]
  },
  {
   "cell_type": "code",
   "execution_count": 91,
   "id": "6ac8e97d",
   "metadata": {},
   "outputs": [
    {
     "data": {
      "text/plain": [
       "2022-01-29   -0.865524\n",
       "2022-01-30    1.518387\n",
       "2022-01-31    0.327414\n",
       "2022-02-01    0.380410\n",
       "2022-02-02   -0.984295\n",
       "2022-02-03   -2.798704\n",
       "Freq: D, dtype: float64"
      ]
     },
     "execution_count": 91,
     "metadata": {},
     "output_type": "execute_result"
    }
   ],
   "source": [
    "ts2"
   ]
  },
  {
   "cell_type": "code",
   "execution_count": 92,
   "id": "9cb634b2",
   "metadata": {},
   "outputs": [
    {
     "data": {
      "text/plain": [
       "<bound method Series.to_period of 2022-01-29   -0.865524\n",
       "2022-01-30    1.518387\n",
       "2022-01-31    0.327414\n",
       "2022-02-01    0.380410\n",
       "2022-02-02   -0.984295\n",
       "2022-02-03   -2.798704\n",
       "Freq: D, dtype: float64>"
      ]
     },
     "execution_count": 92,
     "metadata": {},
     "output_type": "execute_result"
    }
   ],
   "source": [
    "ts2.to_period"
   ]
  },
  {
   "cell_type": "code",
   "execution_count": 94,
   "id": "fc258e03",
   "metadata": {},
   "outputs": [],
   "source": [
    "pts = ts2.to_period()"
   ]
  },
  {
   "cell_type": "code",
   "execution_count": 95,
   "id": "64a3da2a",
   "metadata": {},
   "outputs": [
    {
     "data": {
      "text/plain": [
       "2022-01-29   -0.865524\n",
       "2022-01-30    1.518387\n",
       "2022-01-31    0.327414\n",
       "2022-02-01    0.380410\n",
       "2022-02-02   -0.984295\n",
       "2022-02-03   -2.798704\n",
       "Freq: D, dtype: float64"
      ]
     },
     "execution_count": 95,
     "metadata": {},
     "output_type": "execute_result"
    }
   ],
   "source": [
    "pts"
   ]
  },
  {
   "cell_type": "code",
   "execution_count": 97,
   "id": "8f7d3ea8",
   "metadata": {},
   "outputs": [
    {
     "data": {
      "text/plain": [
       "2022-01-29 23:59:59.999999999   -0.865524\n",
       "2022-01-30 23:59:59.999999999    1.518387\n",
       "2022-01-31 23:59:59.999999999    0.327414\n",
       "2022-02-01 23:59:59.999999999    0.380410\n",
       "2022-02-02 23:59:59.999999999   -0.984295\n",
       "2022-02-03 23:59:59.999999999   -2.798704\n",
       "Freq: D, dtype: float64"
      ]
     },
     "execution_count": 97,
     "metadata": {},
     "output_type": "execute_result"
    }
   ],
   "source": [
    "pts.to_timestamp(how='end')"
   ]
  },
  {
   "cell_type": "markdown",
   "id": "e33502cb",
   "metadata": {},
   "source": [
    "## Reshaping and sample frequency conversion"
   ]
  },
  {
   "cell_type": "code",
   "execution_count": 99,
   "id": "84097493",
   "metadata": {},
   "outputs": [],
   "source": [
    "dates = pd.date_range(\"2022-12-10\", periods=100)"
   ]
  },
  {
   "cell_type": "code",
   "execution_count": 100,
   "id": "88ed163a",
   "metadata": {},
   "outputs": [],
   "source": [
    "ts= pd.Series(np.random.standard_normal(len(dates)),\n",
    "             index=dates)"
   ]
  },
  {
   "cell_type": "code",
   "execution_count": 101,
   "id": "2b7de2d0",
   "metadata": {},
   "outputs": [
    {
     "data": {
      "text/plain": [
       "2022-12-10    0.655061\n",
       "2022-12-11   -2.144779\n",
       "2022-12-12    0.489381\n",
       "2022-12-13   -0.117629\n",
       "2022-12-14    0.782097\n",
       "                ...   \n",
       "2023-03-15   -1.263925\n",
       "2023-03-16   -0.317576\n",
       "2023-03-17    0.398997\n",
       "2023-03-18   -0.237727\n",
       "2023-03-19   -1.407480\n",
       "Freq: D, Length: 100, dtype: float64"
      ]
     },
     "execution_count": 101,
     "metadata": {},
     "output_type": "execute_result"
    }
   ],
   "source": [
    "ts"
   ]
  },
  {
   "cell_type": "code",
   "execution_count": 102,
   "id": "5d205f37",
   "metadata": {},
   "outputs": [
    {
     "data": {
      "text/plain": [
       "2022-12-31   -0.177024\n",
       "2023-01-31    0.218224\n",
       "2023-02-28   -0.040488\n",
       "2023-03-31   -0.288735\n",
       "Freq: M, dtype: float64"
      ]
     },
     "execution_count": 102,
     "metadata": {},
     "output_type": "execute_result"
    }
   ],
   "source": [
    "ts.resample(\"M\").mean()"
   ]
  },
  {
   "cell_type": "code",
   "execution_count": 103,
   "id": "1ab2e931",
   "metadata": {},
   "outputs": [
    {
     "data": {
      "text/plain": [
       "2022-12   -0.177024\n",
       "2023-01    0.218224\n",
       "2023-02   -0.040488\n",
       "2023-03   -0.288735\n",
       "Freq: M, dtype: float64"
      ]
     },
     "execution_count": 103,
     "metadata": {},
     "output_type": "execute_result"
    }
   ],
   "source": [
    "ts.resample(\"M\", kind=\"period\").mean()"
   ]
  },
  {
   "cell_type": "markdown",
   "id": "be112df2",
   "metadata": {},
   "source": [
    "### downsampling"
   ]
  },
  {
   "cell_type": "code",
   "execution_count": 105,
   "id": "5589c020",
   "metadata": {},
   "outputs": [],
   "source": [
    "dates = pd.date_range(\"2022-01-01\",\n",
    "                     periods=12, freq=\"T\")"
   ]
  },
  {
   "cell_type": "code",
   "execution_count": 106,
   "id": "9751a0f9",
   "metadata": {},
   "outputs": [],
   "source": [
    "ts = pd.Series(np.arange(len(dates)), index=dates)"
   ]
  },
  {
   "cell_type": "code",
   "execution_count": 107,
   "id": "8a15bd57",
   "metadata": {},
   "outputs": [
    {
     "data": {
      "text/plain": [
       "2022-01-01 00:00:00     0\n",
       "2022-01-01 00:01:00     1\n",
       "2022-01-01 00:02:00     2\n",
       "2022-01-01 00:03:00     3\n",
       "2022-01-01 00:04:00     4\n",
       "2022-01-01 00:05:00     5\n",
       "2022-01-01 00:06:00     6\n",
       "2022-01-01 00:07:00     7\n",
       "2022-01-01 00:08:00     8\n",
       "2022-01-01 00:09:00     9\n",
       "2022-01-01 00:10:00    10\n",
       "2022-01-01 00:11:00    11\n",
       "Freq: T, dtype: int32"
      ]
     },
     "execution_count": 107,
     "metadata": {},
     "output_type": "execute_result"
    }
   ],
   "source": [
    "ts"
   ]
  },
  {
   "cell_type": "code",
   "execution_count": 110,
   "id": "590c2f75",
   "metadata": {},
   "outputs": [
    {
     "data": {
      "text/plain": [
       "2022-01-01 00:00:00    10\n",
       "2022-01-01 00:05:00    35\n",
       "2022-01-01 00:10:00    21\n",
       "Freq: 5T, dtype: int32"
      ]
     },
     "execution_count": 110,
     "metadata": {},
     "output_type": "execute_result"
    }
   ],
   "source": [
    "ts.resample(\"5min\").sum()"
   ]
  },
  {
   "cell_type": "code",
   "execution_count": 112,
   "id": "a9453b25",
   "metadata": {},
   "outputs": [
    {
     "data": {
      "text/plain": [
       "2022-01-01 00:00:00     0\n",
       "2022-01-01 00:05:00    15\n",
       "2022-01-01 00:10:00    40\n",
       "2022-01-01 00:15:00    11\n",
       "Freq: 5T, dtype: int32"
      ]
     },
     "execution_count": 112,
     "metadata": {},
     "output_type": "execute_result"
    }
   ],
   "source": [
    "ts.resample(\"5min\", closed=\"right\", \n",
    "            label=\"right\").sum()"
   ]
  },
  {
   "cell_type": "markdown",
   "id": "3b299e26",
   "metadata": {},
   "source": [
    "### open-high-low-close(OHLC) resampling"
   ]
  },
  {
   "cell_type": "code",
   "execution_count": 113,
   "id": "bf28647c",
   "metadata": {},
   "outputs": [],
   "source": [
    "ts = pd.Series(np.random.permutation\n",
    "               (np.arange(len(dates))), index=dates)"
   ]
  },
  {
   "cell_type": "code",
   "execution_count": 115,
   "id": "9f25ddf1",
   "metadata": {},
   "outputs": [
    {
     "data": {
      "text/html": [
       "<div>\n",
       "<style scoped>\n",
       "    .dataframe tbody tr th:only-of-type {\n",
       "        vertical-align: middle;\n",
       "    }\n",
       "\n",
       "    .dataframe tbody tr th {\n",
       "        vertical-align: top;\n",
       "    }\n",
       "\n",
       "    .dataframe thead th {\n",
       "        text-align: right;\n",
       "    }\n",
       "</style>\n",
       "<table border=\"1\" class=\"dataframe\">\n",
       "  <thead>\n",
       "    <tr style=\"text-align: right;\">\n",
       "      <th></th>\n",
       "      <th>open</th>\n",
       "      <th>high</th>\n",
       "      <th>low</th>\n",
       "      <th>close</th>\n",
       "    </tr>\n",
       "  </thead>\n",
       "  <tbody>\n",
       "    <tr>\n",
       "      <th>2022-01-01 00:00:00</th>\n",
       "      <td>1</td>\n",
       "      <td>11</td>\n",
       "      <td>1</td>\n",
       "      <td>5</td>\n",
       "    </tr>\n",
       "    <tr>\n",
       "      <th>2022-01-01 00:05:00</th>\n",
       "      <td>3</td>\n",
       "      <td>7</td>\n",
       "      <td>0</td>\n",
       "      <td>0</td>\n",
       "    </tr>\n",
       "    <tr>\n",
       "      <th>2022-01-01 00:10:00</th>\n",
       "      <td>8</td>\n",
       "      <td>10</td>\n",
       "      <td>8</td>\n",
       "      <td>10</td>\n",
       "    </tr>\n",
       "  </tbody>\n",
       "</table>\n",
       "</div>"
      ],
      "text/plain": [
       "                     open  high  low  close\n",
       "2022-01-01 00:00:00     1    11    1      5\n",
       "2022-01-01 00:05:00     3     7    0      0\n",
       "2022-01-01 00:10:00     8    10    8     10"
      ]
     },
     "execution_count": 115,
     "metadata": {},
     "output_type": "execute_result"
    }
   ],
   "source": [
    "ts.resample(\"5min\").ohlc()"
   ]
  },
  {
   "cell_type": "markdown",
   "id": "9670dcaa",
   "metadata": {},
   "source": [
    "### upsampling and interpolation"
   ]
  },
  {
   "cell_type": "code",
   "execution_count": 123,
   "id": "bd2ef81b",
   "metadata": {},
   "outputs": [],
   "source": [
    "frame = pd.DataFrame(np.random.standard_normal((2,5)),\n",
    "                    index=pd.date_range(\"2022-01-01\",\n",
    "                                        periods=2, freq=\"W-WED\"),\n",
    "                     columns = [\"fdk\", 'sadik', 'golewala','pipli','mudki'])"
   ]
  },
  {
   "cell_type": "code",
   "execution_count": 124,
   "id": "4da52cfb",
   "metadata": {},
   "outputs": [
    {
     "data": {
      "text/html": [
       "<div>\n",
       "<style scoped>\n",
       "    .dataframe tbody tr th:only-of-type {\n",
       "        vertical-align: middle;\n",
       "    }\n",
       "\n",
       "    .dataframe tbody tr th {\n",
       "        vertical-align: top;\n",
       "    }\n",
       "\n",
       "    .dataframe thead th {\n",
       "        text-align: right;\n",
       "    }\n",
       "</style>\n",
       "<table border=\"1\" class=\"dataframe\">\n",
       "  <thead>\n",
       "    <tr style=\"text-align: right;\">\n",
       "      <th></th>\n",
       "      <th>fdk</th>\n",
       "      <th>sadik</th>\n",
       "      <th>golewala</th>\n",
       "      <th>pipli</th>\n",
       "      <th>mudki</th>\n",
       "    </tr>\n",
       "  </thead>\n",
       "  <tbody>\n",
       "    <tr>\n",
       "      <th>2022-01-05</th>\n",
       "      <td>-0.500335</td>\n",
       "      <td>-0.286433</td>\n",
       "      <td>0.805294</td>\n",
       "      <td>0.557015</td>\n",
       "      <td>-1.293101</td>\n",
       "    </tr>\n",
       "    <tr>\n",
       "      <th>2022-01-12</th>\n",
       "      <td>0.470091</td>\n",
       "      <td>-0.574010</td>\n",
       "      <td>-0.817633</td>\n",
       "      <td>0.197509</td>\n",
       "      <td>0.189306</td>\n",
       "    </tr>\n",
       "  </tbody>\n",
       "</table>\n",
       "</div>"
      ],
      "text/plain": [
       "                 fdk     sadik  golewala     pipli     mudki\n",
       "2022-01-05 -0.500335 -0.286433  0.805294  0.557015 -1.293101\n",
       "2022-01-12  0.470091 -0.574010 -0.817633  0.197509  0.189306"
      ]
     },
     "execution_count": 124,
     "metadata": {},
     "output_type": "execute_result"
    }
   ],
   "source": [
    "frame"
   ]
  },
  {
   "cell_type": "code",
   "execution_count": null,
   "id": "9a16ebec",
   "metadata": {},
   "outputs": [],
   "source": [
    "for n in range(10):\n",
    "    print(n)"
   ]
  },
  {
   "cell_type": "code",
   "execution_count": 128,
   "id": "eb7a6aee",
   "metadata": {},
   "outputs": [
    {
     "data": {
      "text/plain": [
       "[2, 3, 6, 11, 18]"
      ]
     },
     "execution_count": 128,
     "metadata": {},
     "output_type": "execute_result"
    }
   ],
   "source": [
    "#list comprehension\n",
    "\n",
    "[n**2 + 2 for n in range(5)]"
   ]
  },
  {
   "cell_type": "code",
   "execution_count": 129,
   "id": "fb693ffd",
   "metadata": {},
   "outputs": [
    {
     "name": "stdout",
     "output_type": "stream",
     "text": [
      "2\n",
      "3\n",
      "6\n",
      "11\n",
      "18\n"
     ]
    }
   ],
   "source": [
    "# for loop\n",
    "for n in [n**2 + 2 for n in range(5)]:\n",
    "    print(n)"
   ]
  },
  {
   "cell_type": "code",
   "execution_count": 132,
   "id": "a67ee990",
   "metadata": {},
   "outputs": [],
   "source": [
    "df_daily = frame.resample('D').asfreq()"
   ]
  },
  {
   "cell_type": "code",
   "execution_count": 133,
   "id": "64f11503",
   "metadata": {},
   "outputs": [
    {
     "data": {
      "text/html": [
       "<div>\n",
       "<style scoped>\n",
       "    .dataframe tbody tr th:only-of-type {\n",
       "        vertical-align: middle;\n",
       "    }\n",
       "\n",
       "    .dataframe tbody tr th {\n",
       "        vertical-align: top;\n",
       "    }\n",
       "\n",
       "    .dataframe thead th {\n",
       "        text-align: right;\n",
       "    }\n",
       "</style>\n",
       "<table border=\"1\" class=\"dataframe\">\n",
       "  <thead>\n",
       "    <tr style=\"text-align: right;\">\n",
       "      <th></th>\n",
       "      <th>fdk</th>\n",
       "      <th>sadik</th>\n",
       "      <th>golewala</th>\n",
       "      <th>pipli</th>\n",
       "      <th>mudki</th>\n",
       "    </tr>\n",
       "  </thead>\n",
       "  <tbody>\n",
       "    <tr>\n",
       "      <th>2022-01-05</th>\n",
       "      <td>-0.500335</td>\n",
       "      <td>-0.286433</td>\n",
       "      <td>0.805294</td>\n",
       "      <td>0.557015</td>\n",
       "      <td>-1.293101</td>\n",
       "    </tr>\n",
       "    <tr>\n",
       "      <th>2022-01-06</th>\n",
       "      <td>NaN</td>\n",
       "      <td>NaN</td>\n",
       "      <td>NaN</td>\n",
       "      <td>NaN</td>\n",
       "      <td>NaN</td>\n",
       "    </tr>\n",
       "    <tr>\n",
       "      <th>2022-01-07</th>\n",
       "      <td>NaN</td>\n",
       "      <td>NaN</td>\n",
       "      <td>NaN</td>\n",
       "      <td>NaN</td>\n",
       "      <td>NaN</td>\n",
       "    </tr>\n",
       "    <tr>\n",
       "      <th>2022-01-08</th>\n",
       "      <td>NaN</td>\n",
       "      <td>NaN</td>\n",
       "      <td>NaN</td>\n",
       "      <td>NaN</td>\n",
       "      <td>NaN</td>\n",
       "    </tr>\n",
       "    <tr>\n",
       "      <th>2022-01-09</th>\n",
       "      <td>NaN</td>\n",
       "      <td>NaN</td>\n",
       "      <td>NaN</td>\n",
       "      <td>NaN</td>\n",
       "      <td>NaN</td>\n",
       "    </tr>\n",
       "    <tr>\n",
       "      <th>2022-01-10</th>\n",
       "      <td>NaN</td>\n",
       "      <td>NaN</td>\n",
       "      <td>NaN</td>\n",
       "      <td>NaN</td>\n",
       "      <td>NaN</td>\n",
       "    </tr>\n",
       "    <tr>\n",
       "      <th>2022-01-11</th>\n",
       "      <td>NaN</td>\n",
       "      <td>NaN</td>\n",
       "      <td>NaN</td>\n",
       "      <td>NaN</td>\n",
       "      <td>NaN</td>\n",
       "    </tr>\n",
       "    <tr>\n",
       "      <th>2022-01-12</th>\n",
       "      <td>0.470091</td>\n",
       "      <td>-0.574010</td>\n",
       "      <td>-0.817633</td>\n",
       "      <td>0.197509</td>\n",
       "      <td>0.189306</td>\n",
       "    </tr>\n",
       "  </tbody>\n",
       "</table>\n",
       "</div>"
      ],
      "text/plain": [
       "                 fdk     sadik  golewala     pipli     mudki\n",
       "2022-01-05 -0.500335 -0.286433  0.805294  0.557015 -1.293101\n",
       "2022-01-06       NaN       NaN       NaN       NaN       NaN\n",
       "2022-01-07       NaN       NaN       NaN       NaN       NaN\n",
       "2022-01-08       NaN       NaN       NaN       NaN       NaN\n",
       "2022-01-09       NaN       NaN       NaN       NaN       NaN\n",
       "2022-01-10       NaN       NaN       NaN       NaN       NaN\n",
       "2022-01-11       NaN       NaN       NaN       NaN       NaN\n",
       "2022-01-12  0.470091 -0.574010 -0.817633  0.197509  0.189306"
      ]
     },
     "execution_count": 133,
     "metadata": {},
     "output_type": "execute_result"
    }
   ],
   "source": [
    "df_daily"
   ]
  },
  {
   "cell_type": "code",
   "execution_count": 134,
   "id": "df83f3cb",
   "metadata": {},
   "outputs": [
    {
     "data": {
      "text/html": [
       "<div>\n",
       "<style scoped>\n",
       "    .dataframe tbody tr th:only-of-type {\n",
       "        vertical-align: middle;\n",
       "    }\n",
       "\n",
       "    .dataframe tbody tr th {\n",
       "        vertical-align: top;\n",
       "    }\n",
       "\n",
       "    .dataframe thead th {\n",
       "        text-align: right;\n",
       "    }\n",
       "</style>\n",
       "<table border=\"1\" class=\"dataframe\">\n",
       "  <thead>\n",
       "    <tr style=\"text-align: right;\">\n",
       "      <th></th>\n",
       "      <th>fdk</th>\n",
       "      <th>sadik</th>\n",
       "      <th>golewala</th>\n",
       "      <th>pipli</th>\n",
       "      <th>mudki</th>\n",
       "    </tr>\n",
       "  </thead>\n",
       "  <tbody>\n",
       "    <tr>\n",
       "      <th>2022-01-05</th>\n",
       "      <td>-0.500335</td>\n",
       "      <td>-0.286433</td>\n",
       "      <td>0.805294</td>\n",
       "      <td>0.557015</td>\n",
       "      <td>-1.293101</td>\n",
       "    </tr>\n",
       "    <tr>\n",
       "      <th>2022-01-06</th>\n",
       "      <td>-0.500335</td>\n",
       "      <td>-0.286433</td>\n",
       "      <td>0.805294</td>\n",
       "      <td>0.557015</td>\n",
       "      <td>-1.293101</td>\n",
       "    </tr>\n",
       "    <tr>\n",
       "      <th>2022-01-07</th>\n",
       "      <td>-0.500335</td>\n",
       "      <td>-0.286433</td>\n",
       "      <td>0.805294</td>\n",
       "      <td>0.557015</td>\n",
       "      <td>-1.293101</td>\n",
       "    </tr>\n",
       "    <tr>\n",
       "      <th>2022-01-08</th>\n",
       "      <td>NaN</td>\n",
       "      <td>NaN</td>\n",
       "      <td>NaN</td>\n",
       "      <td>NaN</td>\n",
       "      <td>NaN</td>\n",
       "    </tr>\n",
       "    <tr>\n",
       "      <th>2022-01-09</th>\n",
       "      <td>NaN</td>\n",
       "      <td>NaN</td>\n",
       "      <td>NaN</td>\n",
       "      <td>NaN</td>\n",
       "      <td>NaN</td>\n",
       "    </tr>\n",
       "    <tr>\n",
       "      <th>2022-01-10</th>\n",
       "      <td>NaN</td>\n",
       "      <td>NaN</td>\n",
       "      <td>NaN</td>\n",
       "      <td>NaN</td>\n",
       "      <td>NaN</td>\n",
       "    </tr>\n",
       "    <tr>\n",
       "      <th>2022-01-11</th>\n",
       "      <td>NaN</td>\n",
       "      <td>NaN</td>\n",
       "      <td>NaN</td>\n",
       "      <td>NaN</td>\n",
       "      <td>NaN</td>\n",
       "    </tr>\n",
       "    <tr>\n",
       "      <th>2022-01-12</th>\n",
       "      <td>0.470091</td>\n",
       "      <td>-0.574010</td>\n",
       "      <td>-0.817633</td>\n",
       "      <td>0.197509</td>\n",
       "      <td>0.189306</td>\n",
       "    </tr>\n",
       "  </tbody>\n",
       "</table>\n",
       "</div>"
      ],
      "text/plain": [
       "                 fdk     sadik  golewala     pipli     mudki\n",
       "2022-01-05 -0.500335 -0.286433  0.805294  0.557015 -1.293101\n",
       "2022-01-06 -0.500335 -0.286433  0.805294  0.557015 -1.293101\n",
       "2022-01-07 -0.500335 -0.286433  0.805294  0.557015 -1.293101\n",
       "2022-01-08       NaN       NaN       NaN       NaN       NaN\n",
       "2022-01-09       NaN       NaN       NaN       NaN       NaN\n",
       "2022-01-10       NaN       NaN       NaN       NaN       NaN\n",
       "2022-01-11       NaN       NaN       NaN       NaN       NaN\n",
       "2022-01-12  0.470091 -0.574010 -0.817633  0.197509  0.189306"
      ]
     },
     "execution_count": 134,
     "metadata": {},
     "output_type": "execute_result"
    }
   ],
   "source": [
    "# filling certain number of periods\n",
    "frame.resample(\"D\").ffill(limit=2)"
   ]
  },
  {
   "cell_type": "code",
   "execution_count": 135,
   "id": "7c7983db",
   "metadata": {},
   "outputs": [
    {
     "data": {
      "text/html": [
       "<div>\n",
       "<style scoped>\n",
       "    .dataframe tbody tr th:only-of-type {\n",
       "        vertical-align: middle;\n",
       "    }\n",
       "\n",
       "    .dataframe tbody tr th {\n",
       "        vertical-align: top;\n",
       "    }\n",
       "\n",
       "    .dataframe thead th {\n",
       "        text-align: right;\n",
       "    }\n",
       "</style>\n",
       "<table border=\"1\" class=\"dataframe\">\n",
       "  <thead>\n",
       "    <tr style=\"text-align: right;\">\n",
       "      <th></th>\n",
       "      <th>fdk</th>\n",
       "      <th>sadik</th>\n",
       "      <th>golewala</th>\n",
       "      <th>pipli</th>\n",
       "      <th>mudki</th>\n",
       "    </tr>\n",
       "  </thead>\n",
       "  <tbody>\n",
       "    <tr>\n",
       "      <th>2022-01-06</th>\n",
       "      <td>-0.500335</td>\n",
       "      <td>-0.286433</td>\n",
       "      <td>0.805294</td>\n",
       "      <td>0.557015</td>\n",
       "      <td>-1.293101</td>\n",
       "    </tr>\n",
       "    <tr>\n",
       "      <th>2022-01-13</th>\n",
       "      <td>0.470091</td>\n",
       "      <td>-0.574010</td>\n",
       "      <td>-0.817633</td>\n",
       "      <td>0.197509</td>\n",
       "      <td>0.189306</td>\n",
       "    </tr>\n",
       "  </tbody>\n",
       "</table>\n",
       "</div>"
      ],
      "text/plain": [
       "                 fdk     sadik  golewala     pipli     mudki\n",
       "2022-01-06 -0.500335 -0.286433  0.805294  0.557015 -1.293101\n",
       "2022-01-13  0.470091 -0.574010 -0.817633  0.197509  0.189306"
      ]
     },
     "execution_count": 135,
     "metadata": {},
     "output_type": "execute_result"
    }
   ],
   "source": [
    "frame.resample(\"W-THU\").ffill()"
   ]
  },
  {
   "cell_type": "markdown",
   "id": "ddd9dff5",
   "metadata": {},
   "source": [
    "### Resampling with periods"
   ]
  },
  {
   "cell_type": "code",
   "execution_count": 138,
   "id": "99eb9dd0",
   "metadata": {},
   "outputs": [],
   "source": [
    "frame2 = pd.DataFrame(np.random.standard_normal((24,4)),\n",
    "                     index = pd.period_range(\"1-2000\",\"12-2001\",\n",
    "                                            freq=\"M\"),\n",
    "                     columns=['fzp', 'fdk', 'btd', 'mudki'])"
   ]
  },
  {
   "cell_type": "code",
   "execution_count": 140,
   "id": "14eb1bf9",
   "metadata": {},
   "outputs": [
    {
     "data": {
      "text/html": [
       "<div>\n",
       "<style scoped>\n",
       "    .dataframe tbody tr th:only-of-type {\n",
       "        vertical-align: middle;\n",
       "    }\n",
       "\n",
       "    .dataframe tbody tr th {\n",
       "        vertical-align: top;\n",
       "    }\n",
       "\n",
       "    .dataframe thead th {\n",
       "        text-align: right;\n",
       "    }\n",
       "</style>\n",
       "<table border=\"1\" class=\"dataframe\">\n",
       "  <thead>\n",
       "    <tr style=\"text-align: right;\">\n",
       "      <th></th>\n",
       "      <th>fzp</th>\n",
       "      <th>fdk</th>\n",
       "      <th>btd</th>\n",
       "      <th>mudki</th>\n",
       "    </tr>\n",
       "  </thead>\n",
       "  <tbody>\n",
       "    <tr>\n",
       "      <th>2000-01</th>\n",
       "      <td>-0.438864</td>\n",
       "      <td>0.122812</td>\n",
       "      <td>-1.157890</td>\n",
       "      <td>0.403075</td>\n",
       "    </tr>\n",
       "    <tr>\n",
       "      <th>2000-02</th>\n",
       "      <td>-0.688525</td>\n",
       "      <td>-0.721772</td>\n",
       "      <td>0.011549</td>\n",
       "      <td>-0.979600</td>\n",
       "    </tr>\n",
       "    <tr>\n",
       "      <th>2000-03</th>\n",
       "      <td>0.607322</td>\n",
       "      <td>-1.119676</td>\n",
       "      <td>0.089442</td>\n",
       "      <td>0.060338</td>\n",
       "    </tr>\n",
       "    <tr>\n",
       "      <th>2000-04</th>\n",
       "      <td>0.690526</td>\n",
       "      <td>-0.095600</td>\n",
       "      <td>0.212831</td>\n",
       "      <td>0.410823</td>\n",
       "    </tr>\n",
       "    <tr>\n",
       "      <th>2000-05</th>\n",
       "      <td>-1.016129</td>\n",
       "      <td>-0.430221</td>\n",
       "      <td>-1.235741</td>\n",
       "      <td>0.250289</td>\n",
       "    </tr>\n",
       "  </tbody>\n",
       "</table>\n",
       "</div>"
      ],
      "text/plain": [
       "              fzp       fdk       btd     mudki\n",
       "2000-01 -0.438864  0.122812 -1.157890  0.403075\n",
       "2000-02 -0.688525 -0.721772  0.011549 -0.979600\n",
       "2000-03  0.607322 -1.119676  0.089442  0.060338\n",
       "2000-04  0.690526 -0.095600  0.212831  0.410823\n",
       "2000-05 -1.016129 -0.430221 -1.235741  0.250289"
      ]
     },
     "execution_count": 140,
     "metadata": {},
     "output_type": "execute_result"
    }
   ],
   "source": [
    "frame2.head()"
   ]
  },
  {
   "cell_type": "code",
   "execution_count": 143,
   "id": "e6c9b96e",
   "metadata": {},
   "outputs": [],
   "source": [
    "annual_frame = frame2.resample(\"A-DEC\").mean()"
   ]
  },
  {
   "cell_type": "code",
   "execution_count": 144,
   "id": "029b5e21",
   "metadata": {},
   "outputs": [
    {
     "data": {
      "text/html": [
       "<div>\n",
       "<style scoped>\n",
       "    .dataframe tbody tr th:only-of-type {\n",
       "        vertical-align: middle;\n",
       "    }\n",
       "\n",
       "    .dataframe tbody tr th {\n",
       "        vertical-align: top;\n",
       "    }\n",
       "\n",
       "    .dataframe thead th {\n",
       "        text-align: right;\n",
       "    }\n",
       "</style>\n",
       "<table border=\"1\" class=\"dataframe\">\n",
       "  <thead>\n",
       "    <tr style=\"text-align: right;\">\n",
       "      <th></th>\n",
       "      <th>fzp</th>\n",
       "      <th>fdk</th>\n",
       "      <th>btd</th>\n",
       "      <th>mudki</th>\n",
       "    </tr>\n",
       "  </thead>\n",
       "  <tbody>\n",
       "    <tr>\n",
       "      <th>2000</th>\n",
       "      <td>-0.094852</td>\n",
       "      <td>-0.436623</td>\n",
       "      <td>-0.600286</td>\n",
       "      <td>-0.715234</td>\n",
       "    </tr>\n",
       "    <tr>\n",
       "      <th>2001</th>\n",
       "      <td>0.025365</td>\n",
       "      <td>-0.347140</td>\n",
       "      <td>0.035530</td>\n",
       "      <td>-0.521633</td>\n",
       "    </tr>\n",
       "  </tbody>\n",
       "</table>\n",
       "</div>"
      ],
      "text/plain": [
       "           fzp       fdk       btd     mudki\n",
       "2000 -0.094852 -0.436623 -0.600286 -0.715234\n",
       "2001  0.025365 -0.347140  0.035530 -0.521633"
      ]
     },
     "execution_count": 144,
     "metadata": {},
     "output_type": "execute_result"
    }
   ],
   "source": [
    "annual_frame"
   ]
  },
  {
   "cell_type": "code",
   "execution_count": 145,
   "id": "1451719e",
   "metadata": {},
   "outputs": [
    {
     "data": {
      "text/html": [
       "<div>\n",
       "<style scoped>\n",
       "    .dataframe tbody tr th:only-of-type {\n",
       "        vertical-align: middle;\n",
       "    }\n",
       "\n",
       "    .dataframe tbody tr th {\n",
       "        vertical-align: top;\n",
       "    }\n",
       "\n",
       "    .dataframe thead th {\n",
       "        text-align: right;\n",
       "    }\n",
       "</style>\n",
       "<table border=\"1\" class=\"dataframe\">\n",
       "  <thead>\n",
       "    <tr style=\"text-align: right;\">\n",
       "      <th></th>\n",
       "      <th>fzp</th>\n",
       "      <th>fdk</th>\n",
       "      <th>btd</th>\n",
       "      <th>mudki</th>\n",
       "    </tr>\n",
       "  </thead>\n",
       "  <tbody>\n",
       "    <tr>\n",
       "      <th>2000Q1</th>\n",
       "      <td>-0.094852</td>\n",
       "      <td>-0.436623</td>\n",
       "      <td>-0.600286</td>\n",
       "      <td>-0.715234</td>\n",
       "    </tr>\n",
       "    <tr>\n",
       "      <th>2000Q2</th>\n",
       "      <td>-0.094852</td>\n",
       "      <td>-0.436623</td>\n",
       "      <td>-0.600286</td>\n",
       "      <td>-0.715234</td>\n",
       "    </tr>\n",
       "    <tr>\n",
       "      <th>2000Q3</th>\n",
       "      <td>-0.094852</td>\n",
       "      <td>-0.436623</td>\n",
       "      <td>-0.600286</td>\n",
       "      <td>-0.715234</td>\n",
       "    </tr>\n",
       "    <tr>\n",
       "      <th>2000Q4</th>\n",
       "      <td>-0.094852</td>\n",
       "      <td>-0.436623</td>\n",
       "      <td>-0.600286</td>\n",
       "      <td>-0.715234</td>\n",
       "    </tr>\n",
       "    <tr>\n",
       "      <th>2001Q1</th>\n",
       "      <td>0.025365</td>\n",
       "      <td>-0.347140</td>\n",
       "      <td>0.035530</td>\n",
       "      <td>-0.521633</td>\n",
       "    </tr>\n",
       "    <tr>\n",
       "      <th>2001Q2</th>\n",
       "      <td>0.025365</td>\n",
       "      <td>-0.347140</td>\n",
       "      <td>0.035530</td>\n",
       "      <td>-0.521633</td>\n",
       "    </tr>\n",
       "    <tr>\n",
       "      <th>2001Q3</th>\n",
       "      <td>0.025365</td>\n",
       "      <td>-0.347140</td>\n",
       "      <td>0.035530</td>\n",
       "      <td>-0.521633</td>\n",
       "    </tr>\n",
       "    <tr>\n",
       "      <th>2001Q4</th>\n",
       "      <td>0.025365</td>\n",
       "      <td>-0.347140</td>\n",
       "      <td>0.035530</td>\n",
       "      <td>-0.521633</td>\n",
       "    </tr>\n",
       "  </tbody>\n",
       "</table>\n",
       "</div>"
      ],
      "text/plain": [
       "             fzp       fdk       btd     mudki\n",
       "2000Q1 -0.094852 -0.436623 -0.600286 -0.715234\n",
       "2000Q2 -0.094852 -0.436623 -0.600286 -0.715234\n",
       "2000Q3 -0.094852 -0.436623 -0.600286 -0.715234\n",
       "2000Q4 -0.094852 -0.436623 -0.600286 -0.715234\n",
       "2001Q1  0.025365 -0.347140  0.035530 -0.521633\n",
       "2001Q2  0.025365 -0.347140  0.035530 -0.521633\n",
       "2001Q3  0.025365 -0.347140  0.035530 -0.521633\n",
       "2001Q4  0.025365 -0.347140  0.035530 -0.521633"
      ]
     },
     "execution_count": 145,
     "metadata": {},
     "output_type": "execute_result"
    }
   ],
   "source": [
    "# Q-DEC:Quarterly, year ending in Dec\n",
    "annual_frame.resample(\"Q-DEC\").ffill()"
   ]
  },
  {
   "cell_type": "code",
   "execution_count": 146,
   "id": "4cb217ff",
   "metadata": {},
   "outputs": [
    {
     "data": {
      "text/html": [
       "<div>\n",
       "<style scoped>\n",
       "    .dataframe tbody tr th:only-of-type {\n",
       "        vertical-align: middle;\n",
       "    }\n",
       "\n",
       "    .dataframe tbody tr th {\n",
       "        vertical-align: top;\n",
       "    }\n",
       "\n",
       "    .dataframe thead th {\n",
       "        text-align: right;\n",
       "    }\n",
       "</style>\n",
       "<table border=\"1\" class=\"dataframe\">\n",
       "  <thead>\n",
       "    <tr style=\"text-align: right;\">\n",
       "      <th></th>\n",
       "      <th>fzp</th>\n",
       "      <th>fdk</th>\n",
       "      <th>btd</th>\n",
       "      <th>mudki</th>\n",
       "    </tr>\n",
       "  </thead>\n",
       "  <tbody>\n",
       "    <tr>\n",
       "      <th>2000Q4</th>\n",
       "      <td>-0.094852</td>\n",
       "      <td>-0.436623</td>\n",
       "      <td>-0.600286</td>\n",
       "      <td>-0.715234</td>\n",
       "    </tr>\n",
       "    <tr>\n",
       "      <th>2001Q1</th>\n",
       "      <td>NaN</td>\n",
       "      <td>NaN</td>\n",
       "      <td>NaN</td>\n",
       "      <td>NaN</td>\n",
       "    </tr>\n",
       "    <tr>\n",
       "      <th>2001Q2</th>\n",
       "      <td>NaN</td>\n",
       "      <td>NaN</td>\n",
       "      <td>NaN</td>\n",
       "      <td>NaN</td>\n",
       "    </tr>\n",
       "    <tr>\n",
       "      <th>2001Q3</th>\n",
       "      <td>NaN</td>\n",
       "      <td>NaN</td>\n",
       "      <td>NaN</td>\n",
       "      <td>NaN</td>\n",
       "    </tr>\n",
       "    <tr>\n",
       "      <th>2001Q4</th>\n",
       "      <td>0.025365</td>\n",
       "      <td>-0.347140</td>\n",
       "      <td>0.035530</td>\n",
       "      <td>-0.521633</td>\n",
       "    </tr>\n",
       "  </tbody>\n",
       "</table>\n",
       "</div>"
      ],
      "text/plain": [
       "             fzp       fdk       btd     mudki\n",
       "2000Q4 -0.094852 -0.436623 -0.600286 -0.715234\n",
       "2001Q1       NaN       NaN       NaN       NaN\n",
       "2001Q2       NaN       NaN       NaN       NaN\n",
       "2001Q3       NaN       NaN       NaN       NaN\n",
       "2001Q4  0.025365 -0.347140  0.035530 -0.521633"
      ]
     },
     "execution_count": 146,
     "metadata": {},
     "output_type": "execute_result"
    }
   ],
   "source": [
    "annual_frame.resample(\"Q-Dec\", convention=\"end\").asfreq()"
   ]
  },
  {
   "cell_type": "code",
   "execution_count": 147,
   "id": "e149e541",
   "metadata": {},
   "outputs": [
    {
     "data": {
      "text/html": [
       "<div>\n",
       "<style scoped>\n",
       "    .dataframe tbody tr th:only-of-type {\n",
       "        vertical-align: middle;\n",
       "    }\n",
       "\n",
       "    .dataframe tbody tr th {\n",
       "        vertical-align: top;\n",
       "    }\n",
       "\n",
       "    .dataframe thead th {\n",
       "        text-align: right;\n",
       "    }\n",
       "</style>\n",
       "<table border=\"1\" class=\"dataframe\">\n",
       "  <thead>\n",
       "    <tr style=\"text-align: right;\">\n",
       "      <th></th>\n",
       "      <th>fzp</th>\n",
       "      <th>fdk</th>\n",
       "      <th>btd</th>\n",
       "      <th>mudki</th>\n",
       "    </tr>\n",
       "  </thead>\n",
       "  <tbody>\n",
       "    <tr>\n",
       "      <th>2000Q4</th>\n",
       "      <td>-0.094852</td>\n",
       "      <td>-0.436623</td>\n",
       "      <td>-0.600286</td>\n",
       "      <td>-0.715234</td>\n",
       "    </tr>\n",
       "    <tr>\n",
       "      <th>2001Q1</th>\n",
       "      <td>-0.094852</td>\n",
       "      <td>-0.436623</td>\n",
       "      <td>-0.600286</td>\n",
       "      <td>-0.715234</td>\n",
       "    </tr>\n",
       "    <tr>\n",
       "      <th>2001Q2</th>\n",
       "      <td>-0.094852</td>\n",
       "      <td>-0.436623</td>\n",
       "      <td>-0.600286</td>\n",
       "      <td>-0.715234</td>\n",
       "    </tr>\n",
       "    <tr>\n",
       "      <th>2001Q3</th>\n",
       "      <td>-0.094852</td>\n",
       "      <td>-0.436623</td>\n",
       "      <td>-0.600286</td>\n",
       "      <td>-0.715234</td>\n",
       "    </tr>\n",
       "    <tr>\n",
       "      <th>2001Q4</th>\n",
       "      <td>0.025365</td>\n",
       "      <td>-0.347140</td>\n",
       "      <td>0.035530</td>\n",
       "      <td>-0.521633</td>\n",
       "    </tr>\n",
       "    <tr>\n",
       "      <th>2002Q1</th>\n",
       "      <td>0.025365</td>\n",
       "      <td>-0.347140</td>\n",
       "      <td>0.035530</td>\n",
       "      <td>-0.521633</td>\n",
       "    </tr>\n",
       "    <tr>\n",
       "      <th>2002Q2</th>\n",
       "      <td>0.025365</td>\n",
       "      <td>-0.347140</td>\n",
       "      <td>0.035530</td>\n",
       "      <td>-0.521633</td>\n",
       "    </tr>\n",
       "    <tr>\n",
       "      <th>2002Q3</th>\n",
       "      <td>0.025365</td>\n",
       "      <td>-0.347140</td>\n",
       "      <td>0.035530</td>\n",
       "      <td>-0.521633</td>\n",
       "    </tr>\n",
       "  </tbody>\n",
       "</table>\n",
       "</div>"
      ],
      "text/plain": [
       "             fzp       fdk       btd     mudki\n",
       "2000Q4 -0.094852 -0.436623 -0.600286 -0.715234\n",
       "2001Q1 -0.094852 -0.436623 -0.600286 -0.715234\n",
       "2001Q2 -0.094852 -0.436623 -0.600286 -0.715234\n",
       "2001Q3 -0.094852 -0.436623 -0.600286 -0.715234\n",
       "2001Q4  0.025365 -0.347140  0.035530 -0.521633\n",
       "2002Q1  0.025365 -0.347140  0.035530 -0.521633\n",
       "2002Q2  0.025365 -0.347140  0.035530 -0.521633\n",
       "2002Q3  0.025365 -0.347140  0.035530 -0.521633"
      ]
     },
     "execution_count": 147,
     "metadata": {},
     "output_type": "execute_result"
    }
   ],
   "source": [
    "annual_frame.resample(\"Q-MAR\").ffill()"
   ]
  },
  {
   "cell_type": "markdown",
   "id": "12f8e60c",
   "metadata": {},
   "source": [
    "### Grouped time sampling"
   ]
  },
  {
   "cell_type": "code",
   "execution_count": 148,
   "id": "7e4dff28",
   "metadata": {},
   "outputs": [],
   "source": [
    "N = 15\n",
    "times = pd.date_range(\"2024-02-29 00:00\", freq=\"1min\",\n",
    "                     periods=N)\n",
    "df = pd.DataFrame({'time':times,\n",
    "                  \"value\":np.arange(N)})"
   ]
  },
  {
   "cell_type": "code",
   "execution_count": 149,
   "id": "be1fc570",
   "metadata": {},
   "outputs": [
    {
     "data": {
      "text/html": [
       "<div>\n",
       "<style scoped>\n",
       "    .dataframe tbody tr th:only-of-type {\n",
       "        vertical-align: middle;\n",
       "    }\n",
       "\n",
       "    .dataframe tbody tr th {\n",
       "        vertical-align: top;\n",
       "    }\n",
       "\n",
       "    .dataframe thead th {\n",
       "        text-align: right;\n",
       "    }\n",
       "</style>\n",
       "<table border=\"1\" class=\"dataframe\">\n",
       "  <thead>\n",
       "    <tr style=\"text-align: right;\">\n",
       "      <th></th>\n",
       "      <th>time</th>\n",
       "      <th>value</th>\n",
       "    </tr>\n",
       "  </thead>\n",
       "  <tbody>\n",
       "    <tr>\n",
       "      <th>0</th>\n",
       "      <td>2024-02-29 00:00:00</td>\n",
       "      <td>0</td>\n",
       "    </tr>\n",
       "    <tr>\n",
       "      <th>1</th>\n",
       "      <td>2024-02-29 00:01:00</td>\n",
       "      <td>1</td>\n",
       "    </tr>\n",
       "    <tr>\n",
       "      <th>2</th>\n",
       "      <td>2024-02-29 00:02:00</td>\n",
       "      <td>2</td>\n",
       "    </tr>\n",
       "    <tr>\n",
       "      <th>3</th>\n",
       "      <td>2024-02-29 00:03:00</td>\n",
       "      <td>3</td>\n",
       "    </tr>\n",
       "    <tr>\n",
       "      <th>4</th>\n",
       "      <td>2024-02-29 00:04:00</td>\n",
       "      <td>4</td>\n",
       "    </tr>\n",
       "    <tr>\n",
       "      <th>5</th>\n",
       "      <td>2024-02-29 00:05:00</td>\n",
       "      <td>5</td>\n",
       "    </tr>\n",
       "    <tr>\n",
       "      <th>6</th>\n",
       "      <td>2024-02-29 00:06:00</td>\n",
       "      <td>6</td>\n",
       "    </tr>\n",
       "    <tr>\n",
       "      <th>7</th>\n",
       "      <td>2024-02-29 00:07:00</td>\n",
       "      <td>7</td>\n",
       "    </tr>\n",
       "    <tr>\n",
       "      <th>8</th>\n",
       "      <td>2024-02-29 00:08:00</td>\n",
       "      <td>8</td>\n",
       "    </tr>\n",
       "    <tr>\n",
       "      <th>9</th>\n",
       "      <td>2024-02-29 00:09:00</td>\n",
       "      <td>9</td>\n",
       "    </tr>\n",
       "    <tr>\n",
       "      <th>10</th>\n",
       "      <td>2024-02-29 00:10:00</td>\n",
       "      <td>10</td>\n",
       "    </tr>\n",
       "    <tr>\n",
       "      <th>11</th>\n",
       "      <td>2024-02-29 00:11:00</td>\n",
       "      <td>11</td>\n",
       "    </tr>\n",
       "    <tr>\n",
       "      <th>12</th>\n",
       "      <td>2024-02-29 00:12:00</td>\n",
       "      <td>12</td>\n",
       "    </tr>\n",
       "    <tr>\n",
       "      <th>13</th>\n",
       "      <td>2024-02-29 00:13:00</td>\n",
       "      <td>13</td>\n",
       "    </tr>\n",
       "    <tr>\n",
       "      <th>14</th>\n",
       "      <td>2024-02-29 00:14:00</td>\n",
       "      <td>14</td>\n",
       "    </tr>\n",
       "  </tbody>\n",
       "</table>\n",
       "</div>"
      ],
      "text/plain": [
       "                  time  value\n",
       "0  2024-02-29 00:00:00      0\n",
       "1  2024-02-29 00:01:00      1\n",
       "2  2024-02-29 00:02:00      2\n",
       "3  2024-02-29 00:03:00      3\n",
       "4  2024-02-29 00:04:00      4\n",
       "5  2024-02-29 00:05:00      5\n",
       "6  2024-02-29 00:06:00      6\n",
       "7  2024-02-29 00:07:00      7\n",
       "8  2024-02-29 00:08:00      8\n",
       "9  2024-02-29 00:09:00      9\n",
       "10 2024-02-29 00:10:00     10\n",
       "11 2024-02-29 00:11:00     11\n",
       "12 2024-02-29 00:12:00     12\n",
       "13 2024-02-29 00:13:00     13\n",
       "14 2024-02-29 00:14:00     14"
      ]
     },
     "execution_count": 149,
     "metadata": {},
     "output_type": "execute_result"
    }
   ],
   "source": [
    "df"
   ]
  },
  {
   "cell_type": "code",
   "execution_count": 152,
   "id": "73094fd2",
   "metadata": {},
   "outputs": [
    {
     "data": {
      "text/html": [
       "<div>\n",
       "<style scoped>\n",
       "    .dataframe tbody tr th:only-of-type {\n",
       "        vertical-align: middle;\n",
       "    }\n",
       "\n",
       "    .dataframe tbody tr th {\n",
       "        vertical-align: top;\n",
       "    }\n",
       "\n",
       "    .dataframe thead th {\n",
       "        text-align: right;\n",
       "    }\n",
       "</style>\n",
       "<table border=\"1\" class=\"dataframe\">\n",
       "  <thead>\n",
       "    <tr style=\"text-align: right;\">\n",
       "      <th></th>\n",
       "      <th>time</th>\n",
       "      <th>value</th>\n",
       "    </tr>\n",
       "  </thead>\n",
       "  <tbody>\n",
       "    <tr>\n",
       "      <th>0</th>\n",
       "      <td>2024-02-29 00:00:00</td>\n",
       "      <td>0</td>\n",
       "    </tr>\n",
       "    <tr>\n",
       "      <th>1</th>\n",
       "      <td>2024-02-29 00:05:00</td>\n",
       "      <td>1</td>\n",
       "    </tr>\n",
       "    <tr>\n",
       "      <th>2</th>\n",
       "      <td>2024-02-29 00:10:00</td>\n",
       "      <td>2</td>\n",
       "    </tr>\n",
       "    <tr>\n",
       "      <th>3</th>\n",
       "      <td>2024-02-29 00:15:00</td>\n",
       "      <td>3</td>\n",
       "    </tr>\n",
       "    <tr>\n",
       "      <th>4</th>\n",
       "      <td>2024-02-29 00:20:00</td>\n",
       "      <td>4</td>\n",
       "    </tr>\n",
       "    <tr>\n",
       "      <th>5</th>\n",
       "      <td>2024-02-29 00:25:00</td>\n",
       "      <td>5</td>\n",
       "    </tr>\n",
       "    <tr>\n",
       "      <th>6</th>\n",
       "      <td>2024-02-29 00:30:00</td>\n",
       "      <td>6</td>\n",
       "    </tr>\n",
       "    <tr>\n",
       "      <th>7</th>\n",
       "      <td>2024-02-29 00:35:00</td>\n",
       "      <td>7</td>\n",
       "    </tr>\n",
       "    <tr>\n",
       "      <th>8</th>\n",
       "      <td>2024-02-29 00:40:00</td>\n",
       "      <td>8</td>\n",
       "    </tr>\n",
       "    <tr>\n",
       "      <th>9</th>\n",
       "      <td>2024-02-29 00:45:00</td>\n",
       "      <td>9</td>\n",
       "    </tr>\n",
       "    <tr>\n",
       "      <th>10</th>\n",
       "      <td>2024-02-29 00:50:00</td>\n",
       "      <td>10</td>\n",
       "    </tr>\n",
       "    <tr>\n",
       "      <th>11</th>\n",
       "      <td>2024-02-29 00:55:00</td>\n",
       "      <td>11</td>\n",
       "    </tr>\n",
       "    <tr>\n",
       "      <th>12</th>\n",
       "      <td>2024-02-29 01:00:00</td>\n",
       "      <td>12</td>\n",
       "    </tr>\n",
       "    <tr>\n",
       "      <th>13</th>\n",
       "      <td>2024-02-29 01:05:00</td>\n",
       "      <td>13</td>\n",
       "    </tr>\n",
       "    <tr>\n",
       "      <th>14</th>\n",
       "      <td>2024-02-29 01:10:00</td>\n",
       "      <td>14</td>\n",
       "    </tr>\n",
       "  </tbody>\n",
       "</table>\n",
       "</div>"
      ],
      "text/plain": [
       "                  time  value\n",
       "0  2024-02-29 00:00:00      0\n",
       "1  2024-02-29 00:05:00      1\n",
       "2  2024-02-29 00:10:00      2\n",
       "3  2024-02-29 00:15:00      3\n",
       "4  2024-02-29 00:20:00      4\n",
       "5  2024-02-29 00:25:00      5\n",
       "6  2024-02-29 00:30:00      6\n",
       "7  2024-02-29 00:35:00      7\n",
       "8  2024-02-29 00:40:00      8\n",
       "9  2024-02-29 00:45:00      9\n",
       "10 2024-02-29 00:50:00     10\n",
       "11 2024-02-29 00:55:00     11\n",
       "12 2024-02-29 01:00:00     12\n",
       "13 2024-02-29 01:05:00     13\n",
       "14 2024-02-29 01:10:00     14"
      ]
     },
     "execution_count": 152,
     "metadata": {},
     "output_type": "execute_result"
    }
   ],
   "source": [
    "# resmpling for 5 min count\n",
    "times2 = pd.date_range(\"2024-02-29 00:00\", freq=\"5min\",\n",
    "                     periods=N)\n",
    "df2 = pd.DataFrame({'time':times2,\n",
    "                  \"value\":np.arange(N)})\n",
    "df2"
   ]
  },
  {
   "cell_type": "code",
   "execution_count": 153,
   "id": "e9aa030c",
   "metadata": {},
   "outputs": [
    {
     "data": {
      "text/html": [
       "<div>\n",
       "<style scoped>\n",
       "    .dataframe tbody tr th:only-of-type {\n",
       "        vertical-align: middle;\n",
       "    }\n",
       "\n",
       "    .dataframe tbody tr th {\n",
       "        vertical-align: top;\n",
       "    }\n",
       "\n",
       "    .dataframe thead th {\n",
       "        text-align: right;\n",
       "    }\n",
       "</style>\n",
       "<table border=\"1\" class=\"dataframe\">\n",
       "  <thead>\n",
       "    <tr style=\"text-align: right;\">\n",
       "      <th></th>\n",
       "      <th>value</th>\n",
       "    </tr>\n",
       "    <tr>\n",
       "      <th>time</th>\n",
       "      <th></th>\n",
       "    </tr>\n",
       "  </thead>\n",
       "  <tbody>\n",
       "    <tr>\n",
       "      <th>2024-02-29 00:00:00</th>\n",
       "      <td>5</td>\n",
       "    </tr>\n",
       "    <tr>\n",
       "      <th>2024-02-29 00:05:00</th>\n",
       "      <td>5</td>\n",
       "    </tr>\n",
       "    <tr>\n",
       "      <th>2024-02-29 00:10:00</th>\n",
       "      <td>5</td>\n",
       "    </tr>\n",
       "  </tbody>\n",
       "</table>\n",
       "</div>"
      ],
      "text/plain": [
       "                     value\n",
       "time                      \n",
       "2024-02-29 00:00:00      5\n",
       "2024-02-29 00:05:00      5\n",
       "2024-02-29 00:10:00      5"
      ]
     },
     "execution_count": 153,
     "metadata": {},
     "output_type": "execute_result"
    }
   ],
   "source": [
    "# simply resampling\n",
    "df.set_index('time').resample(\"5min\").count()"
   ]
  },
  {
   "cell_type": "code",
   "execution_count": 158,
   "id": "c6512f82",
   "metadata": {},
   "outputs": [
    {
     "data": {
      "text/html": [
       "<div>\n",
       "<style scoped>\n",
       "    .dataframe tbody tr th:only-of-type {\n",
       "        vertical-align: middle;\n",
       "    }\n",
       "\n",
       "    .dataframe tbody tr th {\n",
       "        vertical-align: top;\n",
       "    }\n",
       "\n",
       "    .dataframe thead th {\n",
       "        text-align: right;\n",
       "    }\n",
       "</style>\n",
       "<table border=\"1\" class=\"dataframe\">\n",
       "  <thead>\n",
       "    <tr style=\"text-align: right;\">\n",
       "      <th></th>\n",
       "      <th>time</th>\n",
       "      <th>key</th>\n",
       "      <th>value</th>\n",
       "    </tr>\n",
       "  </thead>\n",
       "  <tbody>\n",
       "    <tr>\n",
       "      <th>0</th>\n",
       "      <td>2024-02-29 00:00:00</td>\n",
       "      <td>a</td>\n",
       "      <td>0.0</td>\n",
       "    </tr>\n",
       "    <tr>\n",
       "      <th>1</th>\n",
       "      <td>2024-02-29 00:00:00</td>\n",
       "      <td>b</td>\n",
       "      <td>1.0</td>\n",
       "    </tr>\n",
       "    <tr>\n",
       "      <th>2</th>\n",
       "      <td>2024-02-29 00:00:00</td>\n",
       "      <td>c</td>\n",
       "      <td>2.0</td>\n",
       "    </tr>\n",
       "    <tr>\n",
       "      <th>3</th>\n",
       "      <td>2024-02-29 00:01:00</td>\n",
       "      <td>a</td>\n",
       "      <td>3.0</td>\n",
       "    </tr>\n",
       "    <tr>\n",
       "      <th>4</th>\n",
       "      <td>2024-02-29 00:01:00</td>\n",
       "      <td>b</td>\n",
       "      <td>4.0</td>\n",
       "    </tr>\n",
       "  </tbody>\n",
       "</table>\n",
       "</div>"
      ],
      "text/plain": [
       "                 time key  value\n",
       "0 2024-02-29 00:00:00   a    0.0\n",
       "1 2024-02-29 00:00:00   b    1.0\n",
       "2 2024-02-29 00:00:00   c    2.0\n",
       "3 2024-02-29 00:01:00   a    3.0\n",
       "4 2024-02-29 00:01:00   b    4.0"
      ]
     },
     "execution_count": 158,
     "metadata": {},
     "output_type": "execute_result"
    }
   ],
   "source": [
    "# DataFrame with multiple time series, \n",
    "\n",
    "df3 = pd.DataFrame({\"time\":times.repeat(3),\n",
    "                   \"key\":np.tile([\"a\",\"b\",\"c\"],N),\n",
    "                   'value':np.arange(N*3.)})\n",
    "\n",
    "\n",
    "df3.head()"
   ]
  },
  {
   "cell_type": "code",
   "execution_count": 159,
   "id": "e1233ed7",
   "metadata": {},
   "outputs": [],
   "source": [
    "# pandas grouper object\n",
    "time_key = pd.Grouper(freq=\"5min\")"
   ]
  },
  {
   "cell_type": "code",
   "execution_count": 160,
   "id": "ee8053e1",
   "metadata": {},
   "outputs": [],
   "source": [
    "resampled = (df3.set_index(\"time\")\n",
    "            .groupby([\"key\", time_key])\n",
    "            .sum())"
   ]
  },
  {
   "cell_type": "code",
   "execution_count": 161,
   "id": "c83008a3",
   "metadata": {},
   "outputs": [
    {
     "data": {
      "text/html": [
       "<div>\n",
       "<style scoped>\n",
       "    .dataframe tbody tr th:only-of-type {\n",
       "        vertical-align: middle;\n",
       "    }\n",
       "\n",
       "    .dataframe tbody tr th {\n",
       "        vertical-align: top;\n",
       "    }\n",
       "\n",
       "    .dataframe thead th {\n",
       "        text-align: right;\n",
       "    }\n",
       "</style>\n",
       "<table border=\"1\" class=\"dataframe\">\n",
       "  <thead>\n",
       "    <tr style=\"text-align: right;\">\n",
       "      <th></th>\n",
       "      <th></th>\n",
       "      <th>value</th>\n",
       "    </tr>\n",
       "    <tr>\n",
       "      <th>key</th>\n",
       "      <th>time</th>\n",
       "      <th></th>\n",
       "    </tr>\n",
       "  </thead>\n",
       "  <tbody>\n",
       "    <tr>\n",
       "      <th rowspan=\"3\" valign=\"top\">a</th>\n",
       "      <th>2024-02-29 00:00:00</th>\n",
       "      <td>30.0</td>\n",
       "    </tr>\n",
       "    <tr>\n",
       "      <th>2024-02-29 00:05:00</th>\n",
       "      <td>105.0</td>\n",
       "    </tr>\n",
       "    <tr>\n",
       "      <th>2024-02-29 00:10:00</th>\n",
       "      <td>180.0</td>\n",
       "    </tr>\n",
       "    <tr>\n",
       "      <th rowspan=\"3\" valign=\"top\">b</th>\n",
       "      <th>2024-02-29 00:00:00</th>\n",
       "      <td>35.0</td>\n",
       "    </tr>\n",
       "    <tr>\n",
       "      <th>2024-02-29 00:05:00</th>\n",
       "      <td>110.0</td>\n",
       "    </tr>\n",
       "    <tr>\n",
       "      <th>2024-02-29 00:10:00</th>\n",
       "      <td>185.0</td>\n",
       "    </tr>\n",
       "    <tr>\n",
       "      <th rowspan=\"3\" valign=\"top\">c</th>\n",
       "      <th>2024-02-29 00:00:00</th>\n",
       "      <td>40.0</td>\n",
       "    </tr>\n",
       "    <tr>\n",
       "      <th>2024-02-29 00:05:00</th>\n",
       "      <td>115.0</td>\n",
       "    </tr>\n",
       "    <tr>\n",
       "      <th>2024-02-29 00:10:00</th>\n",
       "      <td>190.0</td>\n",
       "    </tr>\n",
       "  </tbody>\n",
       "</table>\n",
       "</div>"
      ],
      "text/plain": [
       "                         value\n",
       "key time                      \n",
       "a   2024-02-29 00:00:00   30.0\n",
       "    2024-02-29 00:05:00  105.0\n",
       "    2024-02-29 00:10:00  180.0\n",
       "b   2024-02-29 00:00:00   35.0\n",
       "    2024-02-29 00:05:00  110.0\n",
       "    2024-02-29 00:10:00  185.0\n",
       "c   2024-02-29 00:00:00   40.0\n",
       "    2024-02-29 00:05:00  115.0\n",
       "    2024-02-29 00:10:00  190.0"
      ]
     },
     "execution_count": 161,
     "metadata": {},
     "output_type": "execute_result"
    }
   ],
   "source": [
    "resampled"
   ]
  },
  {
   "cell_type": "code",
   "execution_count": 162,
   "id": "88e84ab2",
   "metadata": {},
   "outputs": [
    {
     "data": {
      "text/html": [
       "<div>\n",
       "<style scoped>\n",
       "    .dataframe tbody tr th:only-of-type {\n",
       "        vertical-align: middle;\n",
       "    }\n",
       "\n",
       "    .dataframe tbody tr th {\n",
       "        vertical-align: top;\n",
       "    }\n",
       "\n",
       "    .dataframe thead th {\n",
       "        text-align: right;\n",
       "    }\n",
       "</style>\n",
       "<table border=\"1\" class=\"dataframe\">\n",
       "  <thead>\n",
       "    <tr style=\"text-align: right;\">\n",
       "      <th></th>\n",
       "      <th>key</th>\n",
       "      <th>time</th>\n",
       "      <th>value</th>\n",
       "    </tr>\n",
       "  </thead>\n",
       "  <tbody>\n",
       "    <tr>\n",
       "      <th>0</th>\n",
       "      <td>a</td>\n",
       "      <td>2024-02-29 00:00:00</td>\n",
       "      <td>30.0</td>\n",
       "    </tr>\n",
       "    <tr>\n",
       "      <th>1</th>\n",
       "      <td>a</td>\n",
       "      <td>2024-02-29 00:05:00</td>\n",
       "      <td>105.0</td>\n",
       "    </tr>\n",
       "    <tr>\n",
       "      <th>2</th>\n",
       "      <td>a</td>\n",
       "      <td>2024-02-29 00:10:00</td>\n",
       "      <td>180.0</td>\n",
       "    </tr>\n",
       "    <tr>\n",
       "      <th>3</th>\n",
       "      <td>b</td>\n",
       "      <td>2024-02-29 00:00:00</td>\n",
       "      <td>35.0</td>\n",
       "    </tr>\n",
       "    <tr>\n",
       "      <th>4</th>\n",
       "      <td>b</td>\n",
       "      <td>2024-02-29 00:05:00</td>\n",
       "      <td>110.0</td>\n",
       "    </tr>\n",
       "    <tr>\n",
       "      <th>5</th>\n",
       "      <td>b</td>\n",
       "      <td>2024-02-29 00:10:00</td>\n",
       "      <td>185.0</td>\n",
       "    </tr>\n",
       "    <tr>\n",
       "      <th>6</th>\n",
       "      <td>c</td>\n",
       "      <td>2024-02-29 00:00:00</td>\n",
       "      <td>40.0</td>\n",
       "    </tr>\n",
       "    <tr>\n",
       "      <th>7</th>\n",
       "      <td>c</td>\n",
       "      <td>2024-02-29 00:05:00</td>\n",
       "      <td>115.0</td>\n",
       "    </tr>\n",
       "    <tr>\n",
       "      <th>8</th>\n",
       "      <td>c</td>\n",
       "      <td>2024-02-29 00:10:00</td>\n",
       "      <td>190.0</td>\n",
       "    </tr>\n",
       "  </tbody>\n",
       "</table>\n",
       "</div>"
      ],
      "text/plain": [
       "  key                time  value\n",
       "0   a 2024-02-29 00:00:00   30.0\n",
       "1   a 2024-02-29 00:05:00  105.0\n",
       "2   a 2024-02-29 00:10:00  180.0\n",
       "3   b 2024-02-29 00:00:00   35.0\n",
       "4   b 2024-02-29 00:05:00  110.0\n",
       "5   b 2024-02-29 00:10:00  185.0\n",
       "6   c 2024-02-29 00:00:00   40.0\n",
       "7   c 2024-02-29 00:05:00  115.0\n",
       "8   c 2024-02-29 00:10:00  190.0"
      ]
     },
     "execution_count": 162,
     "metadata": {},
     "output_type": "execute_result"
    }
   ],
   "source": [
    "resampled.reset_index()"
   ]
  },
  {
   "cell_type": "markdown",
   "id": "1581a745",
   "metadata": {},
   "source": [
    "## Moving window functions\n",
    "- used for noisy or gappy data\n",
    "- exclude automatically missing data"
   ]
  },
  {
   "cell_type": "code",
   "execution_count": 164,
   "id": "4b4b859f",
   "metadata": {},
   "outputs": [],
   "source": [
    "data = pd.read_csv(\"E:\\pythonfordatanalysis\\semainedu26fevrier\\iris.csv\")"
   ]
  },
  {
   "cell_type": "code",
   "execution_count": 165,
   "id": "6c8f7a3b",
   "metadata": {},
   "outputs": [
    {
     "data": {
      "text/plain": [
       "Index(['Id', 'Sepal Length (cm)', 'Sepal Width (cm)', 'Petal Length (cm)',\n",
       "       'Petal Width (cm)', 'Species'],\n",
       "      dtype='object')"
      ]
     },
     "execution_count": 165,
     "metadata": {},
     "output_type": "execute_result"
    }
   ],
   "source": [
    "data.columns"
   ]
  },
  {
   "cell_type": "code",
   "execution_count": 177,
   "id": "a06adaaf",
   "metadata": {},
   "outputs": [
    {
     "data": {
      "text/plain": [
       "<Axes: >"
      ]
     },
     "execution_count": 177,
     "metadata": {},
     "output_type": "execute_result"
    },
    {
     "data": {
      "image/png": "[encoded data removed]",
      "text/plain": [
       "<Figure size 640x480 with 1 Axes>"
      ]
     },
     "metadata": {},
     "output_type": "display_data"
    }
   ],
   "source": [
    "data['Sepal Width (cm)'].plot()"
   ]
  },
  {
   "cell_type": "code",
   "execution_count": 180,
   "id": "916e4090",
   "metadata": {},
   "outputs": [
    {
     "data": {
      "text/plain": [
       "<Axes: >"
      ]
     },
     "execution_count": 180,
     "metadata": {},
     "output_type": "execute_result"
    },
    {
     "data": {
      "image/png": "[encoded data removed]",
      "text/plain": [
       "<Figure size 640x480 with 1 Axes>"
      ]
     },
     "metadata": {},
     "output_type": "display_data"
    }
   ],
   "source": [
    "data[\"Sepal Width (cm)\"].rolling(5).mean().plot()"
   ]
  }
 ],
 "metadata": {
  "kernelspec": {
   "display_name": "Python 3 (ipykernel)",
   "language": "python",
   "name": "python3"
  },
  "language_info": {
   "codemirror_mode": {
    "name": "ipython",
    "version": 3
   },
   "file_extension": ".py",
   "mimetype": "text/x-python",
   "name": "python",
   "nbconvert_exporter": "python",
   "pygments_lexer": "ipython3",
   "version": "3.9.13"
  }
 },
 "nbformat": 4,
 "nbformat_minor": 5
}
