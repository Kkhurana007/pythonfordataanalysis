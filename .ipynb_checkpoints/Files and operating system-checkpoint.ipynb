{
 "cells": [
  {
   "cell_type": "code",
   "execution_count": 3,
   "id": "437c2338",
   "metadata": {},
   "outputs": [],
   "source": [
    "path = \"cv_KK1.txt\"\n",
    "\n",
    "f= open (path, encoding = 'utf-8')"
   ]
  },
  {
   "cell_type": "code",
   "execution_count": 4,
   "id": "6f2b47b0",
   "metadata": {},
   "outputs": [
    {
     "name": "stdout",
     "output_type": "stream",
     "text": [
      "Kunal Khurana\n",
      "\n",
      "Email: Khuranasoilpau@gmail.com\n",
      "\n",
      "Website: ilovesoils.com\n",
      "\n",
      "LinkedIn: [https://www.linkedin.com/in/khuranasoils/]\n",
      "\n",
      "GitHub: [https://github.com/Kkhurana007]\n",
      "\n",
      "Google Scholar: [https://scholar.google.com/citations?hl=en&user=wpx6SKUAAAAJ]\n",
      "\n",
      "\n",
      "\n",
      "Professional Summary\n",
      "\n",
      "Detail-oriented researcher with a strong background in statistical analysis, machine learning, and data science. Proficient in Python and modern data analysis tools with over 5 years of experience. M.Sc. in Soil Science. Fluent in English, French, Hindi, and Punjabi.\n",
      "\n",
      "\n",
      "\n",
      "Skills\n",
      "\n",
      "\n",
      "\n",
      "Data Science and Machine Learning: Python (NumPy, Pandas, SciPy, Scikit-learn), TensorFlow, PyTorch, machine learning algorithms, deep learning, neural networks, statistical analysis.\n",
      "\n",
      "\n",
      "\n",
      "Data Visualization: Matplotlib, Seaborn, Plotly, Power BI, Altair.\n",
      "\n",
      "\n",
      "\n",
      "Database: SQL (PostgreSQL, MySQL), NoSQL.\n",
      "\n",
      "\n",
      "\n",
      "NLP and Language Processing: Natural Language Processing algorithms, Neural Machine Translation (NMT).\n",
      "\n",
      "\n",
      "\n",
      "Programming: Proficient in Python, software engineering principles, Flask.\n",
      "\n",
      "\n",
      "\n",
      "Problem Solving: Strong analytical and problem-solving skills.\n",
      "\n",
      "\n",
      "\n",
      "Communication: Effective communicator, capable of conveying complex technical concepts.\n",
      "\n",
      "\n",
      "\n",
      "Continuous Learning: Committed to staying updated with the latest advancements in machine learning and related fields.\n",
      "\n",
      "\n",
      "\n",
      "Professional Experience\n",
      "\n",
      "\n",
      "\n",
      "Researcher\n",
      "\n",
      "McGill University, Montreal, CA\n",
      "\n",
      "September 2022 - December 2023\n",
      "\n",
      "\n",
      "\n",
      "Conducted data analysis and research in the field of soil science, focusing on climate trends and agricultural crop yield prediction.\n",
      "\n",
      "Developed predictive models using machine learning techniques.\n",
      "\n",
      "Managed and analyzed large datasets using Python and SQL databases.\n",
      "\n",
      "Collaborated with a multidisciplinary team to achieve research objectives.\n",
      "\n",
      "\n",
      "\n",
      "Graduate Research Assistant\n",
      "\n",
      "Université Laval, Quebec, CA\n",
      "\n",
      "January 2019 - June 2022\n",
      "\n",
      "\n",
      "\n",
      "Investigated the production of phenolics-rich biochar for controlling greenhouse gas emissions.\n",
      "\n",
      "Managed and analyzed wetland datasets for Exploratory Data Analysis using Python.\n",
      "\n",
      "Collaborated with a multidisciplinary team to optimize the production process, ensuring scalability and environmental sustainability.\n",
      "\n",
      "Utilized advanced statistical techniques to identify key patterns and trends within the wetland datasets, facilitating evidence-based recommendations.\n",
      "\n",
      "Contributed to research publications and presentations.\n",
      "\n",
      "\n",
      "\n",
      "Research Fellow\n",
      "\n",
      "Punjab Agricultural University, Ludhiana, IN\n",
      "\n",
      "October 2016 - December 2018\n",
      "\n",
      "Improved bio-efficacy of zinc in rice-wheat cropping systems to enhance grain quality and health.\n",
      "\n",
      "Conducted surveys for observation, sampling, and mapping with ArcGIS.\n",
      "\n",
      "Gained expertise in laboratory analysis using an Atomic Adsorption spectrophotometer for plant and elemental soil composition.\n",
      "\n",
      "Conducted statistical hypothesis testing using SPSS.\n",
      "\n",
      "Prepared and submitted reports and presentations for the project.\n",
      "\n",
      "\n",
      "\n",
      "Education\n",
      "\n",
      "\n",
      "\n",
      "Master of Science in Soil Science\n",
      "\n",
      "Punjab Agricultural University, Ludhiana, IN\n",
      "\n",
      "July 2013- March 2016\n",
      "\n",
      "\n",
      "\n",
      "Bachelor of Agriculture\n",
      "\n",
      "Punjabi University Patiala, Patiala, IN\n",
      "\n",
      "August 2009- May 2013\n",
      "\n",
      "\n",
      "\n",
      "Volunteer Experience\n",
      "\n",
      "\n",
      "\n",
      "Participant\n",
      "\n",
      "Club d’IA, Quebec, CA\n",
      "\n",
      "March 2021 - Present\n",
      "\n",
      "\n",
      "\n",
      "Interests\n",
      "\n",
      "\n",
      "\n",
      "Triathlon\n",
      "\n",
      "Reading\n",
      "\n",
      "Traveling\n",
      "\n",
      "This functional CV highlights Kunal Khurana's skills, professional experience, education, and interests in a clear and structured format.\n"
     ]
    }
   ],
   "source": [
    "for line in f:\n",
    "    print(line)"
   ]
  },
  {
   "cell_type": "code",
   "execution_count": 5,
   "id": "ce301d85",
   "metadata": {},
   "outputs": [
    {
     "data": {
      "text/plain": [
       "['Kunal Khurana',\n",
       " 'Email: Khuranasoilpau@gmail.com',\n",
       " 'Website: ilovesoils.com',\n",
       " 'LinkedIn: [https://www.linkedin.com/in/khuranasoils/]',\n",
       " 'GitHub: [https://github.com/Kkhurana007]',\n",
       " 'Google Scholar: [https://scholar.google.com/citations?hl=en&user=wpx6SKUAAAAJ]',\n",
       " '',\n",
       " 'Professional Summary',\n",
       " 'Detail-oriented researcher with a strong background in statistical analysis, machine learning, and data science. Proficient in Python and modern data analysis tools with over 5 years of experience. M.Sc. in Soil Science. Fluent in English, French, Hindi, and Punjabi.',\n",
       " '',\n",
       " 'Skills',\n",
       " '',\n",
       " 'Data Science and Machine Learning: Python (NumPy, Pandas, SciPy, Scikit-learn), TensorFlow, PyTorch, machine learning algorithms, deep learning, neural networks, statistical analysis.',\n",
       " '',\n",
       " 'Data Visualization: Matplotlib, Seaborn, Plotly, Power BI, Altair.',\n",
       " '',\n",
       " 'Database: SQL (PostgreSQL, MySQL), NoSQL.',\n",
       " '',\n",
       " 'NLP and Language Processing: Natural Language Processing algorithms, Neural Machine Translation (NMT).',\n",
       " '',\n",
       " 'Programming: Proficient in Python, software engineering principles, Flask.',\n",
       " '',\n",
       " 'Problem Solving: Strong analytical and problem-solving skills.',\n",
       " '',\n",
       " 'Communication: Effective communicator, capable of conveying complex technical concepts.',\n",
       " '',\n",
       " 'Continuous Learning: Committed to staying updated with the latest advancements in machine learning and related fields.',\n",
       " '',\n",
       " 'Professional Experience',\n",
       " '',\n",
       " 'Researcher',\n",
       " 'McGill University, Montreal, CA',\n",
       " 'September 2022 - December 2023',\n",
       " '',\n",
       " 'Conducted data analysis and research in the field of soil science, focusing on climate trends and agricultural crop yield prediction.',\n",
       " 'Developed predictive models using machine learning techniques.',\n",
       " 'Managed and analyzed large datasets using Python and SQL databases.',\n",
       " 'Collaborated with a multidisciplinary team to achieve research objectives.',\n",
       " '',\n",
       " 'Graduate Research Assistant',\n",
       " 'Université Laval, Quebec, CA',\n",
       " 'January 2019 - June 2022',\n",
       " '',\n",
       " 'Investigated the production of phenolics-rich biochar for controlling greenhouse gas emissions.',\n",
       " 'Managed and analyzed wetland datasets for Exploratory Data Analysis using Python.',\n",
       " 'Collaborated with a multidisciplinary team to optimize the production process, ensuring scalability and environmental sustainability.',\n",
       " 'Utilized advanced statistical techniques to identify key patterns and trends within the wetland datasets, facilitating evidence-based recommendations.',\n",
       " 'Contributed to research publications and presentations.',\n",
       " '',\n",
       " 'Research Fellow',\n",
       " 'Punjab Agricultural University, Ludhiana, IN',\n",
       " 'October 2016 - December 2018',\n",
       " 'Improved bio-efficacy of zinc in rice-wheat cropping systems to enhance grain quality and health.',\n",
       " 'Conducted surveys for observation, sampling, and mapping with ArcGIS.',\n",
       " 'Gained expertise in laboratory analysis using an Atomic Adsorption spectrophotometer for plant and elemental soil composition.',\n",
       " 'Conducted statistical hypothesis testing using SPSS.',\n",
       " 'Prepared and submitted reports and presentations for the project.',\n",
       " '',\n",
       " 'Education',\n",
       " '',\n",
       " 'Master of Science in Soil Science',\n",
       " 'Punjab Agricultural University, Ludhiana, IN',\n",
       " 'July 2013- March 2016',\n",
       " '',\n",
       " 'Bachelor of Agriculture',\n",
       " 'Punjabi University Patiala, Patiala, IN',\n",
       " 'August 2009- May 2013',\n",
       " '',\n",
       " 'Volunteer Experience',\n",
       " '',\n",
       " 'Participant',\n",
       " 'Club d’IA, Quebec, CA',\n",
       " 'March 2021 - Present',\n",
       " '',\n",
       " 'Interests',\n",
       " '',\n",
       " 'Triathlon',\n",
       " 'Reading',\n",
       " 'Traveling',\n",
       " \"This functional CV highlights Kunal Khurana's skills, professional experience, education, and interests in a clear and structured format.\"]"
      ]
     },
     "execution_count": 5,
     "metadata": {},
     "output_type": "execute_result"
    }
   ],
   "source": [
    "lines = [x.rstrip() for x in open (path, encoding = \"utf-8\")]\n",
    "\n",
    "lines"
   ]
  },
  {
   "cell_type": "code",
   "execution_count": 6,
   "id": "0311beda",
   "metadata": {},
   "outputs": [],
   "source": [
    "f.close()"
   ]
  },
  {
   "cell_type": "code",
   "execution_count": 9,
   "id": "00fbf57f",
   "metadata": {},
   "outputs": [
    {
     "data": {
      "text/plain": [
       "'Kunal Khurana\\n'"
      ]
     },
     "execution_count": 9,
     "metadata": {},
     "output_type": "execute_result"
    }
   ],
   "source": [
    "f1 = open(path)\n",
    "\n",
    "f1.read(14)\n"
   ]
  },
  {
   "cell_type": "code",
   "execution_count": 11,
   "id": "9909e04a",
   "metadata": {},
   "outputs": [
    {
     "data": {
      "text/plain": [
       "b'Kunal Khurana\\r'"
      ]
     },
     "execution_count": 11,
     "metadata": {},
     "output_type": "execute_result"
    }
   ],
   "source": [
    "f2 = open (path, mode = 'rb')  # binary mode\n",
    "\n",
    "f2.read(14)\n"
   ]
  },
  {
   "cell_type": "code",
   "execution_count": 12,
   "id": "fe4ab9bf",
   "metadata": {},
   "outputs": [
    {
     "data": {
      "text/plain": [
       "15"
      ]
     },
     "execution_count": 12,
     "metadata": {},
     "output_type": "execute_result"
    }
   ],
   "source": [
    "f1.tell()"
   ]
  },
  {
   "cell_type": "code",
   "execution_count": 13,
   "id": "8b9b1a53",
   "metadata": {},
   "outputs": [
    {
     "data": {
      "text/plain": [
       "14"
      ]
     },
     "execution_count": 13,
     "metadata": {},
     "output_type": "execute_result"
    }
   ],
   "source": [
    "f2.tell()"
   ]
  },
  {
   "cell_type": "code",
   "execution_count": 15,
   "id": "5b340a01",
   "metadata": {},
   "outputs": [
    {
     "data": {
      "text/plain": [
       "'utf-8'"
      ]
     },
     "execution_count": 15,
     "metadata": {},
     "output_type": "execute_result"
    }
   ],
   "source": [
    "# check default encoding\n",
    "\n",
    "import sys\n",
    "sys.getdefaultencoding()"
   ]
  },
  {
   "cell_type": "code",
   "execution_count": 16,
   "id": "6a92869b",
   "metadata": {},
   "outputs": [
    {
     "data": {
      "text/plain": [
       "3"
      ]
     },
     "execution_count": 16,
     "metadata": {},
     "output_type": "execute_result"
    }
   ],
   "source": [
    "f1.seek(3)"
   ]
  },
  {
   "cell_type": "code",
   "execution_count": 17,
   "id": "dd164b21",
   "metadata": {},
   "outputs": [
    {
     "data": {
      "text/plain": [
       "'a'"
      ]
     },
     "execution_count": 17,
     "metadata": {},
     "output_type": "execute_result"
    }
   ],
   "source": [
    "f1.read(1)"
   ]
  },
  {
   "cell_type": "code",
   "execution_count": 18,
   "id": "74cc2ee0",
   "metadata": {},
   "outputs": [
    {
     "data": {
      "text/plain": [
       "4"
      ]
     },
     "execution_count": 18,
     "metadata": {},
     "output_type": "execute_result"
    }
   ],
   "source": [
    "f1.tell()"
   ]
  },
  {
   "cell_type": "code",
   "execution_count": 19,
   "id": "abf959fa",
   "metadata": {},
   "outputs": [],
   "source": [
    "f1.close()"
   ]
  },
  {
   "cell_type": "code",
   "execution_count": 20,
   "id": "f857aec6",
   "metadata": {},
   "outputs": [],
   "source": [
    "f2.close()"
   ]
  },
  {
   "cell_type": "code",
   "execution_count": 23,
   "id": "dc688d7b",
   "metadata": {},
   "outputs": [],
   "source": [
    "# bytes and unicode with files\n",
    "\n",
    "with open(path) as f:\n",
    "    chars = f.read(13)"
   ]
  },
  {
   "cell_type": "code",
   "execution_count": 24,
   "id": "20bdfa07",
   "metadata": {},
   "outputs": [
    {
     "data": {
      "text/plain": [
       "'Kunal Khurana'"
      ]
     },
     "execution_count": 24,
     "metadata": {},
     "output_type": "execute_result"
    }
   ],
   "source": [
    "chars"
   ]
  },
  {
   "cell_type": "code",
   "execution_count": 25,
   "id": "3e0e6832",
   "metadata": {},
   "outputs": [
    {
     "data": {
      "text/plain": [
       "13"
      ]
     },
     "execution_count": 25,
     "metadata": {},
     "output_type": "execute_result"
    }
   ],
   "source": [
    "len(chars)"
   ]
  },
  {
   "cell_type": "code",
   "execution_count": 26,
   "id": "e8c38e44",
   "metadata": {},
   "outputs": [
    {
     "data": {
      "text/plain": [
       "'Kunal'"
      ]
     },
     "execution_count": 26,
     "metadata": {},
     "output_type": "execute_result"
    }
   ],
   "source": [
    "f = open(path, encoding = 'utf-8')\n",
    "\n",
    "f.read(5)"
   ]
  },
  {
   "cell_type": "code",
   "execution_count": 27,
   "id": "f08dd7ee",
   "metadata": {},
   "outputs": [
    {
     "data": {
      "text/plain": [
       "' '"
      ]
     },
     "execution_count": 27,
     "metadata": {},
     "output_type": "execute_result"
    }
   ],
   "source": [
    "f.read(1)"
   ]
  },
  {
   "cell_type": "code",
   "execution_count": 28,
   "id": "9ebda295",
   "metadata": {},
   "outputs": [
    {
     "data": {
      "text/plain": [
       "1"
      ]
     },
     "execution_count": 28,
     "metadata": {},
     "output_type": "execute_result"
    }
   ],
   "source": [
    "f.seek(1)"
   ]
  },
  {
   "cell_type": "code",
   "execution_count": null,
   "id": "3439d9ca",
   "metadata": {},
   "outputs": [],
   "source": []
  }
 ],
 "metadata": {
  "kernelspec": {
   "display_name": "Python 3 (ipykernel)",
   "language": "python",
   "name": "python3"
  },
  "language_info": {
   "codemirror_mode": {
    "name": "ipython",
    "version": 3
   },
   "file_extension": ".py",
   "mimetype": "text/x-python",
   "name": "python",
   "nbconvert_exporter": "python",
   "pygments_lexer": "ipython3",
   "version": "3.9.13"
  }
 },
 "nbformat": 4,
 "nbformat_minor": 5
}
